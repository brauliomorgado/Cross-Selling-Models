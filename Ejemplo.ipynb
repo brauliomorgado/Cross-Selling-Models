{
 "cells": [
  {
   "cell_type": "code",
   "execution_count": 3,
   "metadata": {},
   "outputs": [],
   "source": [
    "import os\n",
    "os.chdir('G:/Mi unidad/SOCOFAR/0.-Recomendadores-Oficial/POS-Cross-Selling')\n",
    "import Recomendaciones_POS_Cross_Selling\n",
    "class_reco = Recomendaciones_POS_Cross_Selling.clase_recomendadores()"
   ]
  },
  {
   "cell_type": "code",
   "execution_count": 4,
   "metadata": {},
   "outputs": [
    {
     "data": {
      "text/plain": [
       "[213096, 254222, 291144]"
      ]
     },
     "execution_count": 4,
     "metadata": {},
     "output_type": "execute_result"
    }
   ],
   "source": [
    "class_reco.inferencias_pos_checkout(cliente=1000730,productos=[26188])"
   ]
  },
  {
   "cell_type": "code",
   "execution_count": 6,
   "metadata": {},
   "outputs": [],
   "source": [
    "from scipy.sparse import load_npz\n",
    "interaction_matrix = load_npz('INTERACTIONS_POS_202401.npz')"
   ]
  },
  {
   "cell_type": "code",
   "execution_count": 9,
   "metadata": {},
   "outputs": [
    {
     "data": {
      "text/plain": [
       "<8187156x16734 sparse matrix of type '<class 'numpy.float32'>'\n",
       "\twith 88991921 stored elements in COOrdinate format>"
      ]
     },
     "execution_count": 9,
     "metadata": {},
     "output_type": "execute_result"
    }
   ],
   "source": [
    "interaction_matrix"
   ]
  },
  {
   "cell_type": "code",
   "execution_count": 11,
   "metadata": {},
   "outputs": [],
   "source": [
    "import numpy as np\n",
    "from scipy.sparse import coo_matrix, csr_matrix\n",
    "\n",
    "interacciones_csr = interaction_matrix.tocsr()\n",
    "\n",
    "# Proceso de muestreo\n",
    "row, col = interaction_matrix.nonzero()\n",
    "sample_size = int(len(row) * 0.1)\n",
    "indices = np.random.choice(len(row), sample_size, replace=False)\n",
    "\n",
    "# Usamos los índices muestreados para extraer los datos\n",
    "sampled_row = row[indices]\n",
    "sampled_col = col[indices]\n",
    "sampled_data = np.array([interacciones_csr[i, j] for i, j in zip(sampled_row, sampled_col)])\n",
    "\n",
    "# Crear la nueva matriz sparse muestreada\n",
    "sampled_interactions = csr_matrix((sampled_data, (sampled_row, sampled_col)), shape=interaction_matrix.shape)"
   ]
  },
  {
   "cell_type": "code",
   "execution_count": 13,
   "metadata": {},
   "outputs": [
    {
     "name": "stdout",
     "output_type": "stream",
     "text": [
      "  (2, 1205)\t1.0\n",
      "  (8, 15457)\t1.0\n",
      "  (8, 16117)\t1.0\n",
      "  (9, 14928)\t1.0\n",
      "  (13, 6620)\t1.0\n",
      "  (16, 2046)\t1.0\n",
      "  (25, 585)\t1.0\n",
      "  (31, 4991)\t1.0\n",
      "  (32, 1036)\t1.0\n",
      "  (43, 466)\t1.0\n",
      "  (44, 5166)\t1.0\n",
      "  (56, 1452)\t3.0\n",
      "  (56, 5598)\t1.0\n",
      "  (57, 8705)\t1.0\n",
      "  (58, 15986)\t1.0\n",
      "  (72, 1845)\t1.0\n",
      "  (74, 12558)\t1.0\n",
      "  (76, 4899)\t2.0\n",
      "  (76, 9760)\t2.0\n",
      "  (79, 2618)\t2.0\n",
      "  (81, 563)\t1.0\n",
      "  (87, 82)\t1.0\n",
      "  (90, 3174)\t1.0\n",
      "  (91, 3520)\t1.0\n",
      "  (95, 4918)\t1.0\n",
      "  :\t:\n",
      "  (8187069, 9089)\t1.0\n",
      "  (8187070, 5734)\t1.0\n",
      "  (8187073, 13128)\t1.0\n",
      "  (8187075, 9774)\t1.0\n",
      "  (8187075, 14870)\t1.0\n",
      "  (8187083, 5734)\t1.0\n",
      "  (8187086, 1607)\t1.0\n",
      "  (8187086, 10527)\t1.0\n",
      "  (8187091, 6842)\t1.0\n",
      "  (8187093, 626)\t1.0\n",
      "  (8187093, 10561)\t1.0\n",
      "  (8187099, 11863)\t1.0\n",
      "  (8187104, 9583)\t1.0\n",
      "  (8187113, 11006)\t1.0\n",
      "  (8187113, 12975)\t2.0\n",
      "  (8187114, 3795)\t1.0\n",
      "  (8187118, 8491)\t1.0\n",
      "  (8187119, 16719)\t2.0\n",
      "  (8187121, 6299)\t5.0\n",
      "  (8187122, 13892)\t1.0\n",
      "  (8187125, 2547)\t1.0\n",
      "  (8187125, 5882)\t2.0\n",
      "  (8187134, 9086)\t1.0\n",
      "  (8187142, 7110)\t1.0\n",
      "  (8187150, 7608)\t1.0\n"
     ]
    }
   ],
   "source": [
    "print(sampled_interactions)"
   ]
  },
  {
   "cell_type": "code",
   "execution_count": 17,
   "metadata": {},
   "outputs": [
    {
     "data": {
      "text/plain": [
       "88991921"
      ]
     },
     "execution_count": 17,
     "metadata": {},
     "output_type": "execute_result"
    }
   ],
   "source": [
    "interaction_matrix.nnz"
   ]
  },
  {
   "cell_type": "code",
   "execution_count": 18,
   "metadata": {},
   "outputs": [
    {
     "data": {
      "text/plain": [
       "8899191"
      ]
     },
     "execution_count": 18,
     "metadata": {},
     "output_type": "execute_result"
    }
   ],
   "source": [
    "sampled_interactions.nnz"
   ]
  },
  {
   "cell_type": "code",
   "execution_count": null,
   "metadata": {},
   "outputs": [],
   "source": []
  }
 ],
 "metadata": {
  "kernelspec": {
   "display_name": "base",
   "language": "python",
   "name": "python3"
  },
  "language_info": {
   "codemirror_mode": {
    "name": "ipython",
    "version": 3
   },
   "file_extension": ".py",
   "mimetype": "text/x-python",
   "name": "python",
   "nbconvert_exporter": "python",
   "pygments_lexer": "ipython3",
   "version": "3.9.13"
  }
 },
 "nbformat": 4,
 "nbformat_minor": 2
}
