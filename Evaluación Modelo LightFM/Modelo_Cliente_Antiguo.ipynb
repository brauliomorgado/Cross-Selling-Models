{
 "cells": [
  {
   "cell_type": "code",
   "execution_count": 1,
   "metadata": {},
   "outputs": [
    {
     "name": "stderr",
     "output_type": "stream",
     "text": [
      "c:\\ProgramData\\Anaconda3\\lib\\site-packages\\scipy\\__init__.py:155: UserWarning: A NumPy version >=1.18.5 and <1.25.0 is required for this version of SciPy (detected version 1.26.4\n",
      "  warnings.warn(f\"A NumPy version >={np_minversion} and <{np_maxversion}\"\n",
      "c:\\ProgramData\\Anaconda3\\lib\\site-packages\\lightfm\\_lightfm_fast.py:9: UserWarning: LightFM was compiled without OpenMP support. Only a single thread will be used.\n",
      "  warnings.warn(\n",
      "[nltk_data] Downloading package stopwords to\n",
      "[nltk_data]     C:\\Users\\Usuario\\AppData\\Roaming\\nltk_data...\n",
      "[nltk_data]   Package stopwords is already up-to-date!\n"
     ]
    }
   ],
   "source": [
    "from lightfm import LightFM\n",
    "from lightfm.evaluation import precision_at_k, recall_at_k\n",
    "import csv\n",
    "import numpy as np\n",
    "import pandas as pd\n",
    "from scipy import sparse\n",
    "import pickle\n",
    "import os\n",
    "os.chdir('G:/Mi unidad/SOCOFAR/0.-Recomendadores-Oficial')\n",
    "import Pipeline_Recomendaciones\n",
    "class_reco = Pipeline_Recomendaciones.clase_recomendadores()\n",
    "os.chdir('G:/Mi unidad/SOCOFAR/0.-Recomendadores-Oficial/Archivos')"
   ]
  },
  {
   "cell_type": "markdown",
   "metadata": {},
   "source": [
    "#### **Train Model**"
   ]
  },
  {
   "cell_type": "code",
   "execution_count": 2,
   "metadata": {},
   "outputs": [],
   "source": [
    "#CARGA DATOS TRAIN\n",
    "class_reco.carga_data(base_transacciones='Recomendaciones_PDC_OCT23/SR_BASE_FINAL_PROD_OCT23.csv',recomendador='cliente_antiguo'\n",
    "                      ,user_features=['GENERO'] #,'GSE'\n",
    "                      ,item_features=['MARCA']\n",
    "                      ,diccionario='diccionario_productos.csv')"
   ]
  },
  {
   "cell_type": "code",
   "execution_count": 3,
   "metadata": {},
   "outputs": [],
   "source": [
    "#interacciones train\n",
    "class_reco.interaction_feature_matrix(recomendador='cliente_antiguo'\n",
    "                                     ,name_output_interaction_matrix='INTERACTIONS_DEV.npz'\n",
    "                                     ,model_feature=True #False == NO DEMOGRAFICAS\n",
    "                                     )"
   ]
  },
  {
   "cell_type": "code",
   "execution_count": 4,
   "metadata": {},
   "outputs": [],
   "source": [
    "class_reco.train_cliente_antiguo(name_output_model='RECOS_DEV.pkl'\n",
    "                                ,name_interaction_matrix='INTERACTIONS_DEV.npz'\n",
    "                                ,model_feature=True #False == NO DEMOGRAFICAS\n",
    "                                ,epoch=20)"
   ]
  },
  {
   "cell_type": "markdown",
   "metadata": {},
   "source": [
    "#### **TEST MODEL**"
   ]
  },
  {
   "cell_type": "code",
   "execution_count": 12,
   "metadata": {},
   "outputs": [],
   "source": [
    "dataset_test=pd.read_csv('Recomendaciones_PDC_NOV23_ENE24/SR_BASE_FINAL_PROD_NOV23_ENE24.csv',sep=';')\n",
    "dataset_test['RUT_CLIENTE']=((dataset_test['SK']+1599)/2).astype(int)\n",
    "products_train=pd.read_csv('products_cliente_antiguo.csv')\n",
    "customers_train=pd.read_csv('customers_cliente_antiguo.csv')\n",
    "dataset_test=dataset_test[dataset_test.CODIGO_PRODUCTO.isin(products_train.products)]\n",
    "dataset_test=dataset_test[dataset_test.RUT_CLIENTE.isin(customers_train.customers)]\n",
    "dataset_test.to_csv('Recomendaciones_PDC_NOV23_ENE24/SR_BASE_FINAL_PROD_NOV23_ENE24_ON_TRAIN.csv',sep=';')"
   ]
  },
  {
   "cell_type": "code",
   "execution_count": 2,
   "metadata": {},
   "outputs": [],
   "source": [
    "#CARGA DATOS TEST\n",
    "class_reco.carga_data(base_transacciones='Recomendaciones_PDC_NOV23_ENE24/SR_BASE_FINAL_PROD_NOV23_ENE24_ON_TRAIN.csv',recomendador='cliente_antiguo'\n",
    "                      ,user_features=['GENERO'] #,'GSE'\n",
    "                      ,item_features=['MARCA']\n",
    "                      ,diccionario='diccionario_productos.csv'\n",
    "                      ,test=True)"
   ]
  },
  {
   "cell_type": "code",
   "execution_count": 6,
   "metadata": {},
   "outputs": [],
   "source": [
    "#interacciones test\n",
    "class_reco.interaction_feature_matrix(recomendador='cliente_antiguo'\n",
    "                                     ,name_output_interaction_matrix='INTERACTIONS_TEST.npz'\n",
    "                                     ,model_feature=True #False == NO DEMOGRAFICAS\n",
    "                                     )\n",
    "\n",
    "test=class_reco.df_coo"
   ]
  },
  {
   "cell_type": "code",
   "execution_count": null,
   "metadata": {},
   "outputs": [],
   "source": [
    "test = sparse.load_npz('INTERACTIONS_TEST.npz')"
   ]
  },
  {
   "cell_type": "code",
   "execution_count": null,
   "metadata": {},
   "outputs": [],
   "source": [
    "with open('G:/Mi unidad/SOCOFAR/0.-Recomendadores-Oficial/Archivos/RECOS_DEV.pkl', \"rb\") as file:\n",
    "            class_reco.model=pickle.load(file)"
   ]
  },
  {
   "cell_type": "code",
   "execution_count": null,
   "metadata": {},
   "outputs": [],
   "source": [
    "user_features_matrix = sparse.load_npz('user_features_INTERACTIONS_TEST.npz')\n",
    "item_features_matrix = sparse.load_npz('item_features_INTERACTIONS_TEST.npz')"
   ]
  },
  {
   "cell_type": "code",
   "execution_count": null,
   "metadata": {},
   "outputs": [],
   "source": [
    "k = 3\n",
    "precision = precision_at_k(model=class_reco.model, test_interactions=test \n",
    "                           ,user_features=user_features_matrix\n",
    "                           ,item_features=item_features_matrix\n",
    "                           ,k=k).mean()\n",
    "recall = recall_at_k(class_reco.model, test_interactions=test\n",
    "                     ,user_features=user_features_matrix\n",
    "                     ,item_features=item_features_matrix\n",
    "                     ,k=k).mean()\n",
    "\n",
    "print(\"Precisión en el top\", k, \":\", precision)\n",
    "print(\"Recall en el top\", k, \":\", recall)"
   ]
  },
  {
   "cell_type": "code",
   "execution_count": null,
   "metadata": {},
   "outputs": [
    {
     "name": "stdout",
     "output_type": "stream",
     "text": [
      "Precisión en el top 4 : 0.051626272\n",
      "Recall en el top 4 : 0.03163892687569442\n"
     ]
    }
   ],
   "source": [
    "k = 4\n",
    "precision = precision_at_k(model=class_reco.model, test_interactions=test \n",
    "                           ,user_features=user_features_matrix\n",
    "                           ,item_features=item_features_matrix\n",
    "                           ,k=k).mean()\n",
    "recall = recall_at_k(class_reco.model, test_interactions=test\n",
    "                     ,user_features=user_features_matrix\n",
    "                     ,item_features=item_features_matrix\n",
    "                     ,k=k).mean()\n",
    "\n",
    "print(\"Precisión en el top\", k, \":\", precision)\n",
    "print(\"Recall en el top\", k, \":\", recall)"
   ]
  },
  {
   "cell_type": "code",
   "execution_count": null,
   "metadata": {},
   "outputs": [
    {
     "name": "stdout",
     "output_type": "stream",
     "text": [
      "Precisión en el top 5 : 0.047631975\n",
      "Recall en el top 5 : 0.03754599043509295\n"
     ]
    }
   ],
   "source": [
    "k = 5\n",
    "precision = precision_at_k(model=class_reco.model, test_interactions=test \n",
    "                           ,user_features=user_features_matrix\n",
    "                           ,item_features=item_features_matrix\n",
    "                           ,k=k).mean()\n",
    "recall = recall_at_k(class_reco.model, test_interactions=test\n",
    "                     ,user_features=user_features_matrix\n",
    "                     ,item_features=item_features_matrix\n",
    "                     ,k=k).mean()\n",
    "\n",
    "print(\"Precisión en el top\", k, \":\", precision)\n",
    "print(\"Recall en el top\", k, \":\", recall)"
   ]
  },
  {
   "cell_type": "code",
   "execution_count": null,
   "metadata": {},
   "outputs": [],
   "source": [
    "# k = 3\n",
    "# Precisión en el top 3 : 0.058377754\n",
    "# Recall en el top 3 : 0.026069278704120593\n",
    "\n",
    "# k = 4\n",
    "# Precisión en el top 4 : 0.051626272\n",
    "# Recall en el top 4 : 0.03163892687569442\n",
    "\n",
    "# k = 5\n",
    "# Precisión en el top 5 : 0.047631975\n",
    "# Recall en el top 5 : 0.03754599043509295"
   ]
  }
 ],
 "metadata": {
  "kernelspec": {
   "display_name": "base",
   "language": "python",
   "name": "python3"
  },
  "language_info": {
   "codemirror_mode": {
    "name": "ipython",
    "version": 3
   },
   "file_extension": ".py",
   "mimetype": "text/x-python",
   "name": "python",
   "nbconvert_exporter": "python",
   "pygments_lexer": "ipython3",
   "version": "3.9.13"
  },
  "orig_nbformat": 4
 },
 "nbformat": 4,
 "nbformat_minor": 2
}
