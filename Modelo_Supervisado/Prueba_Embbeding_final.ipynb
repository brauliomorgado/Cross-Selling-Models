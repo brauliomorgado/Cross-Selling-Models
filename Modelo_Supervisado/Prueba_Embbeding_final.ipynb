{
 "cells": [
  {
   "cell_type": "code",
   "execution_count": 63,
   "metadata": {},
   "outputs": [],
   "source": [
    "import pandas as pd\n",
    "import numpy as np\n",
    "from gensim.models import Word2Vec\n",
    "from joblib import load\n",
    "import gc\n",
    "import psutil\n",
    "\n",
    "import os\n",
    "import pandas as pd\n",
    "import numpy as np\n",
    "from sklearn.model_selection import train_test_split\n",
    "from sklearn.metrics import plot_roc_curve\n",
    "#from sklearn.metrics import RocCurveDisplay as plot_roc_curve\n",
    "from sklearn.metrics import classification_report\n",
    "from sklearn.metrics import confusion_matrix\n",
    "import matplotlib.pyplot as plt\n",
    "from io import StringIO\n",
    "\n",
    "os.chdir('G:/Mi unidad/SOCOFAR/2.- POS-Cross-Selling/Modelo_Supervisado')\n",
    "import pipeline_bm as pipeline\n",
    "#pd.set_option('display.max_row', 1000000)\n",
    "\n",
    "pipeline_bm = pipeline.clase_pipeline()"
   ]
  },
  {
   "cell_type": "markdown",
   "metadata": {},
   "source": [
    "**Carga Data**"
   ]
  },
  {
   "cell_type": "code",
   "execution_count": 66,
   "metadata": {},
   "outputs": [
    {
     "name": "stdout",
     "output_type": "stream",
     "text": [
      "tamaño dataset inicial: 10000\n"
     ]
    }
   ],
   "source": [
    "#tratamiento de bytes nulos en el archivo\n",
    "with open('G:\\\\Mi unidad\\\\SOCOFAR\\\\0.-Recomendadores-Oficial\\\\Archivos\\\\Recomendaciones_PDC_OCT23\\\\SR_BASE_FINAL_PROD_OCT23.csv', 'rb') as file:\n",
    "    content = file.read().replace(b'\\x00', b'')  \n",
    "\n",
    "content_str = StringIO(content.decode('latin'))\n",
    "\n",
    "df = pd.read_csv(content_str, sep=';', encoding='latin')#,nrows=10000)\n",
    "df['RUT_CLIENTE']=((df['SK']+1599)/2).astype(int)\n",
    "print('tamaño dataset inicial: '+str(len(df)))"
   ]
  },
  {
   "cell_type": "code",
   "execution_count": 3,
   "metadata": {},
   "outputs": [
    {
     "name": "stdout",
     "output_type": "stream",
     "text": [
      "tamaño dataset luego de exclusiones: 43671213\n"
     ]
    }
   ],
   "source": [
    "# diccionario=pd.read_csv('../diccionario_productos.csv',sep=';',usecols=['CODIGO','UNIDAD_COMERCIAL','MACROCATEGORIA','CATEGORIA_NIVEL_1','CATEGORIA_NIVEL_2_FCV','DESCRIPTOR_LARGO','MARCA'])\n",
    "\n",
    "# excl_otros = [str(elemento) for elemento in list(diccionario[diccionario.DESCRIPTOR_LARGO.isin(['DESPACHO','DESP.A','RETIRO DE RECETA','PROMOCION DTE','HORA VACUNACION','INSUMOS BOLSAS','SIN DESCRIPTOR','AJUSTE POR REDONDEO'])]['CODIGO'])] +\\\n",
    "#                           [str(elemento) for elemento in list(diccionario[diccionario.DESCRIPTOR_LARGO.str.contains('BOLSA PAPEL|BOLS|DESPACHO|PROMOCION|CUPON|INYECCION|MEDICION|MEMBRESIA|REGALO|2020|2021|2022|MUNDIAL')]['CODIGO'])] +\\\n",
    "#                           [str(elemento) for elemento in list(diccionario[diccionario.MACROCATEGORIA.isin(['ENFERMERIA ACCESORIOS Y PROCEDIMIENTOS','HOGAR','RECARGAS VARIAS','BEBIDAS Y AGUAS','ACCESORIOS MODA','TECNOLOGIA','AUTOLIQUIDABLES REGALO ARTICULOS VARIOS','INSUMOS MACRO','EQUIPOS QUIRURGICOS','POR CLASIFICAR'])]['CODIGO'])] +\\\n",
    "#                           [str(elemento) for elemento in list(diccionario[diccionario.CATEGORIA_NIVEL_1.isin(['MASCARILLAS PRIMEROS AUXILIOS'])]['CODIGO'])] +\\\n",
    "#                           [str(elemento) for elemento in list(diccionario[diccionario.UNIDAD_COMERCIAL.isin(['INSTITUCIONAL'])]['CODIGO'])]\n",
    "# #por código\n",
    "# cods_excluir = pd.read_csv('G:/Mi unidad/SOCOFAR/0.-Recomendadores-Oficial/Archivos/codigos_exclusion.csv',sep=';').excluir.values.tolist() + excl_otros\n",
    "# cods_excluir = [int(cod) for cod in cods_excluir]\n",
    "\n",
    "# diccionario=diccionario[~diccionario.CODIGO.isin(cods_excluir)]\n",
    "\n",
    "# dicc_uam=df['CODIGO_PRODUCTO'].unique()\n",
    "# dicc_productos=diccionario[diccionario.CODIGO.isin(dicc_uam)].CODIGO\n",
    "\n",
    "# df=df[df.CODIGO_PRODUCTO.isin(dicc_productos)]\n",
    "# print('tamaño dataset luego de exclusiones: '+str(len(df)))"
   ]
  },
  {
   "cell_type": "markdown",
   "metadata": {},
   "source": [
    "**Generación de Embedding de Clientes y Productos**"
   ]
  },
  {
   "cell_type": "code",
   "execution_count": 67,
   "metadata": {},
   "outputs": [],
   "source": [
    "# AGRUPAR PRODUCTOS COMPRADOS POR CLIENTE EN LISTAS\n",
    "\n",
    "# OPC1) METODO PARA PONDERAR PESO POR CANTIDAD\n",
    "#sentences = df.groupby('RUT_CLIENTE')['CODIGO_PRODUCTO'].apply(list).tolist()\n",
    "\n",
    "# OPC2) METODO PARA PONDERAR PESO POR CANTIDAD\n",
    "df['PRODUCTO_CANTIDAD'] = df.apply(lambda row: [(row['CODIGO_PRODUCTO'], row['SUM_NRO_PROD'])], axis=1)\n",
    "\n",
    "def expandir_productos_con_cantidad(lista_de_pares):\n",
    "    resultado = []\n",
    "    for producto, cantidad in lista_de_pares:\n",
    "        resultado.extend([producto] * cantidad)\n",
    "    return resultado\n",
    "\n",
    "# función para expandir veces de aparición de los productos según su cantidad\n",
    "sentences = df.groupby('RUT_CLIENTE')['PRODUCTO_CANTIDAD'].sum().apply(expandir_productos_con_cantidad).tolist()"
   ]
  },
  {
   "cell_type": "code",
   "execution_count": 71,
   "metadata": {},
   "outputs": [],
   "source": [
    "model = Word2Vec(sentences, vector_size=10, window=5, min_count=1, workers=12)\n",
    "model.save(\"modelo_word2vec.bin\")"
   ]
  },
  {
   "cell_type": "code",
   "execution_count": 72,
   "metadata": {},
   "outputs": [
    {
     "name": "stdout",
     "output_type": "stream",
     "text": [
      "Cantidad de abanico de productos: 3516\n"
     ]
    },
    {
     "data": {
      "text/html": [
       "<div>\n",
       "<style scoped>\n",
       "    .dataframe tbody tr th:only-of-type {\n",
       "        vertical-align: middle;\n",
       "    }\n",
       "\n",
       "    .dataframe tbody tr th {\n",
       "        vertical-align: top;\n",
       "    }\n",
       "\n",
       "    .dataframe thead th {\n",
       "        text-align: right;\n",
       "    }\n",
       "</style>\n",
       "<table border=\"1\" class=\"dataframe\">\n",
       "  <thead>\n",
       "    <tr style=\"text-align: right;\">\n",
       "      <th></th>\n",
       "      <th>CODIGO_PRODUCTO</th>\n",
       "      <th>embedding_prod_0</th>\n",
       "      <th>embedding_prod_1</th>\n",
       "      <th>embedding_prod_2</th>\n",
       "      <th>embedding_prod_3</th>\n",
       "      <th>embedding_prod_4</th>\n",
       "      <th>embedding_prod_5</th>\n",
       "      <th>embedding_prod_6</th>\n",
       "      <th>embedding_prod_7</th>\n",
       "      <th>embedding_prod_8</th>\n",
       "      <th>embedding_prod_9</th>\n",
       "    </tr>\n",
       "  </thead>\n",
       "  <tbody>\n",
       "    <tr>\n",
       "      <th>0</th>\n",
       "      <td>532006</td>\n",
       "      <td>-0.045648</td>\n",
       "      <td>-0.081526</td>\n",
       "      <td>0.231496</td>\n",
       "      <td>0.091947</td>\n",
       "      <td>0.178645</td>\n",
       "      <td>0.113271</td>\n",
       "      <td>0.029554</td>\n",
       "      <td>0.097874</td>\n",
       "      <td>-0.169287</td>\n",
       "      <td>-0.064426</td>\n",
       "    </tr>\n",
       "  </tbody>\n",
       "</table>\n",
       "</div>"
      ],
      "text/plain": [
       "   CODIGO_PRODUCTO  embedding_prod_0  embedding_prod_1  embedding_prod_2  \\\n",
       "0           532006         -0.045648         -0.081526          0.231496   \n",
       "\n",
       "   embedding_prod_3  embedding_prod_4  embedding_prod_5  embedding_prod_6  \\\n",
       "0          0.091947          0.178645          0.113271          0.029554   \n",
       "\n",
       "   embedding_prod_7  embedding_prod_8  embedding_prod_9  \n",
       "0          0.097874         -0.169287         -0.064426  "
      ]
     },
     "execution_count": 72,
     "metadata": {},
     "output_type": "execute_result"
    }
   ],
   "source": [
    "dicc_prod=df.CODIGO_PRODUCTO.unique()\n",
    "embeddings = [model.wv[producto] for producto in dicc_prod if producto in model.wv]\n",
    "dicc_prod_embedd = pd.DataFrame(embeddings, index=dicc_prod)\n",
    "dicc_prod_embedd.reset_index(inplace=True)\n",
    "dicc_prod_embedd.rename(columns={'index': 'CODIGO_PRODUCTO'}, inplace=True)\n",
    "dicc_prod_embedd.columns = ['CODIGO_PRODUCTO'] + [f'embedding_prod_{i}' for i in range(model.vector_size)]   \n",
    "dicc_prod_embedd.to_csv('productos_embeddings.csv',sep=';',index=False) \n",
    "print('Cantidad de abanico de productos: '+str(len(df.CODIGO_PRODUCTO.unique()))) \n",
    "dicc_prod_embedd.head(1)"
   ]
  },
  {
   "cell_type": "code",
   "execution_count": 73,
   "metadata": {},
   "outputs": [],
   "source": [
    "#CALCULA EL EMBEDDING DEL CLIENTE SEGUN LOS PRODUCTOS QUE HA COMPRADO\n",
    "client_embeddings = {}\n",
    "for rut, group in df.groupby('RUT_CLIENTE'):\n",
    "    products = group['CODIGO_PRODUCTO'].tolist()\n",
    "    embeddings = []\n",
    "    for product in products:\n",
    "        embeddings.append(model.wv[product])\n",
    "        \n",
    "    if embeddings:\n",
    "        client_embeddings[rut] = np.mean(embeddings, axis=0)"
   ]
  },
  {
   "cell_type": "code",
   "execution_count": 75,
   "metadata": {},
   "outputs": [
    {
     "name": "stdout",
     "output_type": "stream",
     "text": [
      "N° de clientes: 9983\n",
      "N° de clientes: 9983\n"
     ]
    }
   ],
   "source": [
    "#DATASET NIVEL CLIENTE CON RESPECTIVO EMBEDDING\n",
    "df_cli_embedd = pd.DataFrame.from_dict(client_embeddings, orient='index')\n",
    "df_cli_embedd.reset_index(inplace=True)\n",
    "df_cli_embedd.columns = ['RUT_CLIENTE'] + [f'embedding_{i}' for i in range(model.vector_size)]      \n",
    "print('N° de clientes: '+str(len(df_cli_embedd))) \n",
    "\n",
    "#CONSIDERAR SOLO CLIENTES DEL MUESTREO ESTRATIFICADO\n",
    "df_cli_embedd=df_cli_embedd[df_cli_embedd.RUT_CLIENTE.isin(df.RUT_CLIENTE.unique())] \n",
    "df_cli_embedd.to_csv('clientes_embeddings.csv',sep=';',index=False) \n",
    "df_cli_embedd.head(1)"
   ]
  },
  {
   "cell_type": "markdown",
   "metadata": {},
   "source": [
    "**Exclusiones de productos considerados para el entrenamiento**\n",
    "\n",
    "*En este caso se entrenan productos exclusivamente recomendables solo para disminuir la carga de procesamiento con datos de productos los cuales no se consideraran en la evaluación de ser recomendados. En un excenario con más capacidad de procesamiento sería recomendable entrenar con estos datos y solo considerar el filtro de productos al momento de generar la recomendación.*"
   ]
  },
  {
   "cell_type": "code",
   "execution_count": 3,
   "metadata": {},
   "outputs": [
    {
     "name": "stdout",
     "output_type": "stream",
     "text": [
      "tamaño dataset luego de exclusiones: 43671213\n"
     ]
    }
   ],
   "source": [
    "diccionario=pd.read_csv('../diccionario_productos.csv',sep=';',usecols=['CODIGO','UNIDAD_COMERCIAL','MACROCATEGORIA','CATEGORIA_NIVEL_1','CATEGORIA_NIVEL_2_FCV','DESCRIPTOR_LARGO','MARCA'])\n",
    "\n",
    "excl_otros = [str(elemento) for elemento in list(diccionario[diccionario.DESCRIPTOR_LARGO.isin(['DESPACHO','DESP.A','RETIRO DE RECETA','PROMOCION DTE','HORA VACUNACION','INSUMOS BOLSAS','SIN DESCRIPTOR','AJUSTE POR REDONDEO'])]['CODIGO'])] +\\\n",
    "                          [str(elemento) for elemento in list(diccionario[diccionario.DESCRIPTOR_LARGO.str.contains('BOLSA PAPEL|BOLS|DESPACHO|PROMOCION|CUPON|INYECCION|MEDICION|MEMBRESIA|REGALO|2020|2021|2022|MUNDIAL')]['CODIGO'])] +\\\n",
    "                          [str(elemento) for elemento in list(diccionario[diccionario.MACROCATEGORIA.isin(['ENFERMERIA ACCESORIOS Y PROCEDIMIENTOS','HOGAR','RECARGAS VARIAS','BEBIDAS Y AGUAS','ACCESORIOS MODA','TECNOLOGIA','AUTOLIQUIDABLES REGALO ARTICULOS VARIOS','INSUMOS MACRO','EQUIPOS QUIRURGICOS','POR CLASIFICAR'])]['CODIGO'])] +\\\n",
    "                          [str(elemento) for elemento in list(diccionario[diccionario.CATEGORIA_NIVEL_1.isin(['MASCARILLAS PRIMEROS AUXILIOS'])]['CODIGO'])] +\\\n",
    "                          [str(elemento) for elemento in list(diccionario[diccionario.UNIDAD_COMERCIAL.isin(['INSTITUCIONAL'])]['CODIGO'])]\n",
    "#por código\n",
    "cods_excluir = pd.read_csv('G:/Mi unidad/SOCOFAR/0.-Recomendadores-Oficial/Archivos/codigos_exclusion.csv',sep=';').excluir.values.tolist() + excl_otros\n",
    "cods_excluir = [int(cod) for cod in cods_excluir]\n",
    "\n",
    "diccionario=diccionario[~diccionario.CODIGO.isin(cods_excluir)]\n",
    "\n",
    "dicc_uam=df['CODIGO_PRODUCTO'].unique()\n",
    "dicc_productos=diccionario[diccionario.CODIGO.isin(dicc_uam)].CODIGO\n",
    "\n",
    "df=df[df.CODIGO_PRODUCTO.isin(dicc_productos)]\n",
    "print('tamaño dataset luego de exclusiones: '+str(len(df)))"
   ]
  },
  {
   "cell_type": "markdown",
   "metadata": {},
   "source": [
    "## **Muestreo Estratificado**"
   ]
  },
  {
   "cell_type": "code",
   "execution_count": 4,
   "metadata": {},
   "outputs": [],
   "source": [
    "caracteristicas=pd.read_csv('../SR_CARACTERISTICAS.CSV',sep=';')\n",
    "df=df.merge(caracteristicas, how='left', on='RUT_CLIENTE')\n",
    "df['EDAD'].replace(-1, np.nan,inplace=True)"
   ]
  },
  {
   "cell_type": "code",
   "execution_count": 5,
   "metadata": {},
   "outputs": [
    {
     "name": "stdout",
     "output_type": "stream",
     "text": [
      "tamaño dataset: 43671213\n"
     ]
    }
   ],
   "source": [
    "min = df['EDAD'].min()\n",
    "max = df['EDAD'].max()\n",
    "tramos_edad = np.linspace(min, max, num=10)\n",
    "\n",
    "df['EDAD_TRAMOS'] = pd.cut(df['EDAD'], bins=tramos_edad, include_lowest=True).astype(str)\n",
    "\n",
    "# Específicamente asignar un tramo para NaN\n",
    "df.loc[df['EDAD'].isna(), 'EDAD_TRAMOS'] = 'DESCONOCIDA'\n",
    "print('tamaño dataset: '+str(len(df)))"
   ]
  },
  {
   "cell_type": "code",
   "execution_count": 6,
   "metadata": {},
   "outputs": [
    {
     "name": "stdout",
     "output_type": "stream",
     "text": [
      "Aparición minima de veces de una combinatoria para ser representada en la muestra: 100.0\n",
      "tamaño dataset a realizar muestreo estratificado: 32245887\n"
     ]
    }
   ],
   "source": [
    "#PROCESO QUE LIMITA LA OCURRENCIA MINIMA DE UNA COMBINATORIA PARA SER PARTE DEL ESTRATIFICADO\n",
    " \n",
    "porcentaje_muestra=0.5\n",
    "frec_min_aparicion=1/porcentaje_muestra\n",
    "print('Aparición minima de veces de una combinatoria para ser representada en la muestra: ' +str(frec_min_aparicion))\n",
    "\n",
    "#Identificar indices de casos con muy baja ocurrencia\n",
    "conteos = df.groupby(['GENERO', 'GSE', 'EDAD_TRAMOS','CODIGO_PRODUCTO']).size()\n",
    "# Filtrar las combinaciones con menos de \"frecuencia minima\" apariciones\n",
    "conteos_filtrados = conteos[conteos >= frec_min_aparicion]\n",
    "# Filtrar el DataFrame original para mantener solo las filas con combinaciones relevantes en terminos de frecuencia\n",
    "df_filtered = df[df.set_index(['GENERO', 'GSE', 'EDAD_TRAMOS','CODIGO_PRODUCTO']).index.isin(conteos_filtrados.index)].reset_index(drop=True)\n",
    "print('tamaño dataset a realizar muestreo estratificado: '+str(len(df_filtered)))"
   ]
  },
  {
   "cell_type": "code",
   "execution_count": 7,
   "metadata": {},
   "outputs": [
    {
     "name": "stdout",
     "output_type": "stream",
     "text": [
      "Tamaño de la muestra final: 322458\n"
     ]
    }
   ],
   "source": [
    "# APLICACIÓN DEL MUESTREO\n",
    "test_size=1-porcentaje_muestra\n",
    "df_estratificado, _ = train_test_split(df_filtered, test_size=test_size, stratify=df_filtered[['GENERO', 'GSE', 'EDAD_TRAMOS','CODIGO_PRODUCTO']])\n",
    "df=df_estratificado\n",
    "print('Tamaño de la muestra final: '+ str(len(df)))"
   ]
  },
  {
   "cell_type": "code",
   "execution_count": 11,
   "metadata": {},
   "outputs": [],
   "source": [
    "#df_cli_embedd=pd.read_csv('clientes_embeddings.csv',sep=';')\n",
    "#dicc_prod_embedd=pd.read_csv('productos_embeddings.csv',sep=';')"
   ]
  },
  {
   "cell_type": "code",
   "execution_count": 12,
   "metadata": {},
   "outputs": [
    {
     "name": "stdout",
     "output_type": "stream",
     "text": [
      "N° de interacciones cliente/producto: 322458\n"
     ]
    },
    {
     "data": {
      "text/html": [
       "<div>\n",
       "<style scoped>\n",
       "    .dataframe tbody tr th:only-of-type {\n",
       "        vertical-align: middle;\n",
       "    }\n",
       "\n",
       "    .dataframe tbody tr th {\n",
       "        vertical-align: top;\n",
       "    }\n",
       "\n",
       "    .dataframe thead th {\n",
       "        text-align: right;\n",
       "    }\n",
       "</style>\n",
       "<table border=\"1\" class=\"dataframe\">\n",
       "  <thead>\n",
       "    <tr style=\"text-align: right;\">\n",
       "      <th></th>\n",
       "      <th>RUT_CLIENTE</th>\n",
       "      <th>CODIGO_PRODUCTO</th>\n",
       "      <th>embedding_0</th>\n",
       "      <th>embedding_1</th>\n",
       "      <th>embedding_2</th>\n",
       "      <th>embedding_3</th>\n",
       "      <th>embedding_4</th>\n",
       "      <th>embedding_5</th>\n",
       "      <th>embedding_6</th>\n",
       "      <th>embedding_7</th>\n",
       "      <th>embedding_8</th>\n",
       "      <th>embedding_9</th>\n",
       "    </tr>\n",
       "  </thead>\n",
       "  <tbody>\n",
       "    <tr>\n",
       "      <th>0</th>\n",
       "      <td>16453163</td>\n",
       "      <td>295672</td>\n",
       "      <td>-1.697009</td>\n",
       "      <td>-0.813076</td>\n",
       "      <td>1.493564</td>\n",
       "      <td>-1.457752</td>\n",
       "      <td>-1.193616</td>\n",
       "      <td>0.154493</td>\n",
       "      <td>-0.121353</td>\n",
       "      <td>1.855666</td>\n",
       "      <td>-0.368019</td>\n",
       "      <td>1.951219</td>\n",
       "    </tr>\n",
       "  </tbody>\n",
       "</table>\n",
       "</div>"
      ],
      "text/plain": [
       "   RUT_CLIENTE  CODIGO_PRODUCTO  embedding_0  embedding_1  embedding_2  \\\n",
       "0     16453163           295672    -1.697009    -0.813076     1.493564   \n",
       "\n",
       "   embedding_3  embedding_4  embedding_5  embedding_6  embedding_7  \\\n",
       "0    -1.457752    -1.193616     0.154493    -0.121353     1.855666   \n",
       "\n",
       "   embedding_8  embedding_9  \n",
       "0    -0.368019     1.951219  "
      ]
     },
     "execution_count": 12,
     "metadata": {},
     "output_type": "execute_result"
    }
   ],
   "source": [
    "df_inter_cli_embedd = pd.merge(df[['RUT_CLIENTE','CODIGO_PRODUCTO']], df_cli_embedd, on='RUT_CLIENTE', how='left')\n",
    "print('N° de interacciones cliente/producto: '+str(len(df)))  \n",
    "df_inter_cli_embedd.head(1)"
   ]
  },
  {
   "cell_type": "markdown",
   "metadata": {},
   "source": [
    "## **GENERACIÓN DATASET ENTRENAMIENTO**\n",
    "\n",
    "*embedding como variables explicativas*"
   ]
  },
  {
   "cell_type": "markdown",
   "metadata": {},
   "source": [
    "**Consolidación casos target=1 (todos)**"
   ]
  },
  {
   "cell_type": "code",
   "execution_count": 13,
   "metadata": {},
   "outputs": [
    {
     "name": "stdout",
     "output_type": "stream",
     "text": [
      "N° de interacciones cliente/producto: 322458\n"
     ]
    },
    {
     "data": {
      "text/html": [
       "<div>\n",
       "<style scoped>\n",
       "    .dataframe tbody tr th:only-of-type {\n",
       "        vertical-align: middle;\n",
       "    }\n",
       "\n",
       "    .dataframe tbody tr th {\n",
       "        vertical-align: top;\n",
       "    }\n",
       "\n",
       "    .dataframe thead th {\n",
       "        text-align: right;\n",
       "    }\n",
       "</style>\n",
       "<table border=\"1\" class=\"dataframe\">\n",
       "  <thead>\n",
       "    <tr style=\"text-align: right;\">\n",
       "      <th></th>\n",
       "      <th>RUT_CLIENTE</th>\n",
       "      <th>CODIGO_PRODUCTO</th>\n",
       "      <th>embedding_0</th>\n",
       "      <th>embedding_1</th>\n",
       "      <th>embedding_2</th>\n",
       "      <th>embedding_3</th>\n",
       "      <th>embedding_4</th>\n",
       "      <th>embedding_5</th>\n",
       "      <th>embedding_6</th>\n",
       "      <th>embedding_7</th>\n",
       "      <th>...</th>\n",
       "      <th>embedding_prod_1</th>\n",
       "      <th>embedding_prod_2</th>\n",
       "      <th>embedding_prod_3</th>\n",
       "      <th>embedding_prod_4</th>\n",
       "      <th>embedding_prod_5</th>\n",
       "      <th>embedding_prod_6</th>\n",
       "      <th>embedding_prod_7</th>\n",
       "      <th>embedding_prod_8</th>\n",
       "      <th>embedding_prod_9</th>\n",
       "      <th>TARGET</th>\n",
       "    </tr>\n",
       "  </thead>\n",
       "  <tbody>\n",
       "    <tr>\n",
       "      <th>0</th>\n",
       "      <td>16453163</td>\n",
       "      <td>295672</td>\n",
       "      <td>-1.697009</td>\n",
       "      <td>-0.813076</td>\n",
       "      <td>1.493564</td>\n",
       "      <td>-1.457752</td>\n",
       "      <td>-1.193616</td>\n",
       "      <td>0.154493</td>\n",
       "      <td>-0.121353</td>\n",
       "      <td>1.855666</td>\n",
       "      <td>...</td>\n",
       "      <td>-1.053332</td>\n",
       "      <td>3.121146</td>\n",
       "      <td>-1.888715</td>\n",
       "      <td>1.92968</td>\n",
       "      <td>-0.959539</td>\n",
       "      <td>-2.834627</td>\n",
       "      <td>0.562049</td>\n",
       "      <td>-0.575864</td>\n",
       "      <td>1.774845</td>\n",
       "      <td>1</td>\n",
       "    </tr>\n",
       "  </tbody>\n",
       "</table>\n",
       "<p>1 rows × 23 columns</p>\n",
       "</div>"
      ],
      "text/plain": [
       "   RUT_CLIENTE  CODIGO_PRODUCTO  embedding_0  embedding_1  embedding_2  \\\n",
       "0     16453163           295672    -1.697009    -0.813076     1.493564   \n",
       "\n",
       "   embedding_3  embedding_4  embedding_5  embedding_6  embedding_7  ...  \\\n",
       "0    -1.457752    -1.193616     0.154493    -0.121353     1.855666  ...   \n",
       "\n",
       "   embedding_prod_1  embedding_prod_2  embedding_prod_3  embedding_prod_4  \\\n",
       "0         -1.053332          3.121146         -1.888715           1.92968   \n",
       "\n",
       "   embedding_prod_5  embedding_prod_6  embedding_prod_7  embedding_prod_8  \\\n",
       "0         -0.959539         -2.834627          0.562049         -0.575864   \n",
       "\n",
       "   embedding_prod_9  TARGET  \n",
       "0          1.774845       1  \n",
       "\n",
       "[1 rows x 23 columns]"
      ]
     },
     "execution_count": 13,
     "metadata": {},
     "output_type": "execute_result"
    }
   ],
   "source": [
    "df_cli_prod_embedd_t1 = pd.merge(df_inter_cli_embedd, dicc_prod_embedd, on='CODIGO_PRODUCTO', how='left')\n",
    "df_cli_prod_embedd_t1['TARGET']=1\n",
    "print('N° de interacciones cliente/producto: '+str(len(df_cli_prod_embedd_t1)))  \n",
    "df_cli_prod_embedd_t1.head(1)"
   ]
  },
  {
   "cell_type": "markdown",
   "metadata": {},
   "source": [
    "**Consolidación casos target=0 (muestra)** "
   ]
  },
  {
   "cell_type": "markdown",
   "metadata": {},
   "source": [
    "###### Opción 1) muestreo aleatorio=0\n",
    "###### - para cada cliente de la tabla \"df_cli_embedd\" se le asocie aleatoriamente un registro de la tabla \"dicc_prod_embedd\""
   ]
  },
  {
   "cell_type": "code",
   "execution_count": 14,
   "metadata": {},
   "outputs": [],
   "source": [
    "n = 2  # Número de veces que deseas duplicar el ratio de target 0 por sobre target 1\n",
    "df_cli_prod_embedd_t0 = pd.concat([df_cli_embedd] * n, ignore_index=True)\n",
    "\n",
    "# Paso 1: Generar índices aleatorios\n",
    "num_clientes = len(df_cli_prod_embedd_t0)\n",
    "indices_aleatorios = np.random.choice(dicc_prod_embedd.index, size=num_clientes, replace=True)\n",
    "\n",
    "# Paso 2: Asignar registros aleatorios a clientes\n",
    "for columna in dicc_prod_embedd.columns:\n",
    "    # Usar los índices aleatorios para seleccionar los valores de dicc_prod_embedd y asignarlos a df_cli_embedd\n",
    "    df_cli_prod_embedd_t0[f'{columna}'] = dicc_prod_embedd.loc[indices_aleatorios, columna].values"
   ]
  },
  {
   "cell_type": "code",
   "execution_count": 15,
   "metadata": {},
   "outputs": [],
   "source": [
    "# Paso 3: Eliminar posibles casos target=1\n",
    "df_cli_prod_embedd_t0 = pd.merge(df_cli_prod_embedd_t0, df[['RUT_CLIENTE','CODIGO_PRODUCTO']], on=['RUT_CLIENTE','CODIGO_PRODUCTO'], how='left', indicator=True).loc[lambda x: x['_merge'] == 'left_only']\n",
    "df_cli_prod_embedd_t0 = df_cli_prod_embedd_t0.drop(columns=['_merge']) #elimina aquellos que si cruzan en el historico de transacciones\n",
    "df_cli_prod_embedd_t0['TARGET']=0"
   ]
  },
  {
   "cell_type": "markdown",
   "metadata": {},
   "source": [
    "###### Opción 2) Muestreo Representativo por clusters\n",
    "###### Distribuir equitativamente las muestras de productos no comprados entre clientes de perfil similar, y asi no requerir que para cada cliente se consideren todos los productos que no compra.\n",
    "###### - Generar 'n' clusters\n",
    "###### - A cada cluster asociar aleatoriamente los 'm' productos existentes en el diccionario (cumpliendo condición de que el cliente asociado no haya comprado el producto)\n",
    "###### - los 'm' productos se pueden multiplicar por un factor 'x' dependiendo de la cantidad de casos con target=0 se definan, ya sea que se opte por un entrenamiento balanceado u otro superior."
   ]
  },
  {
   "cell_type": "code",
   "execution_count": 19,
   "metadata": {},
   "outputs": [],
   "source": [
    "############## PENDIENTE ##############"
   ]
  },
  {
   "cell_type": "markdown",
   "metadata": {},
   "source": [
    "**Consolidación dataset**"
   ]
  },
  {
   "cell_type": "code",
   "execution_count": 16,
   "metadata": {},
   "outputs": [],
   "source": [
    "columnas = list(df_cli_prod_embedd_t0.columns)\n",
    "columnas.remove('CODIGO_PRODUCTO') \n",
    "columnas.insert(1,'CODIGO_PRODUCTO')\n",
    "df_cli_prod_embedd_t0 = df_cli_prod_embedd_t0[columnas]"
   ]
  },
  {
   "cell_type": "code",
   "execution_count": 17,
   "metadata": {},
   "outputs": [
    {
     "data": {
      "text/plain": [
       "16693039"
      ]
     },
     "execution_count": 17,
     "metadata": {},
     "output_type": "execute_result"
    }
   ],
   "source": [
    "pipeline_bm.dataset = pd.concat([df_cli_prod_embedd_t0,df_cli_prod_embedd_t1],axis=0)\n",
    "len(pipeline_bm.dataset)"
   ]
  },
  {
   "cell_type": "code",
   "execution_count": 24,
   "metadata": {},
   "outputs": [
    {
     "name": "stdout",
     "output_type": "stream",
     "text": [
      "Memoria usada después de gc.collect(): 15.35 GB\n"
     ]
    }
   ],
   "source": [
    "# import gc\n",
    "# import psutil\n",
    "\n",
    "# df_inter_cli_embedd=[]\n",
    "# client_embeddings=[]\n",
    "# df=[]\n",
    "# df_filtered=[]\n",
    "# df_cli_embedd=[]\n",
    "# df_cli_prod_embedd_t0=[]\n",
    "# df_cli_prod_embedd_t1=[]\n",
    "\n",
    "# def liberar_memoria():\n",
    "#     gc.collect()  # Forza la recolección de basura\n",
    "#     print(f\"Memoria usada después de gc.collect(): {psutil.virtual_memory().used / (1024**3):.2f} GB\")\n",
    "\n",
    "# liberar_memoria()"
   ]
  },
  {
   "cell_type": "code",
   "execution_count": 18,
   "metadata": {},
   "outputs": [
    {
     "name": "stdout",
     "output_type": "stream",
     "text": [
      "Tamaño base de Entrenamiento: 16693039\n"
     ]
    },
    {
     "data": {
      "text/html": [
       "<div>\n",
       "<style scoped>\n",
       "    .dataframe tbody tr th:only-of-type {\n",
       "        vertical-align: middle;\n",
       "    }\n",
       "\n",
       "    .dataframe tbody tr th {\n",
       "        vertical-align: top;\n",
       "    }\n",
       "\n",
       "    .dataframe thead th {\n",
       "        text-align: right;\n",
       "    }\n",
       "</style>\n",
       "<table border=\"1\" class=\"dataframe\">\n",
       "  <thead>\n",
       "    <tr style=\"text-align: right;\">\n",
       "      <th></th>\n",
       "      <th>RUT_CLIENTE</th>\n",
       "      <th>CODIGO_PRODUCTO</th>\n",
       "      <th>embedding_0</th>\n",
       "      <th>embedding_1</th>\n",
       "      <th>embedding_2</th>\n",
       "      <th>embedding_3</th>\n",
       "      <th>embedding_4</th>\n",
       "      <th>embedding_5</th>\n",
       "      <th>embedding_6</th>\n",
       "      <th>embedding_7</th>\n",
       "      <th>...</th>\n",
       "      <th>embedding_prod_1</th>\n",
       "      <th>embedding_prod_2</th>\n",
       "      <th>embedding_prod_3</th>\n",
       "      <th>embedding_prod_4</th>\n",
       "      <th>embedding_prod_5</th>\n",
       "      <th>embedding_prod_6</th>\n",
       "      <th>embedding_prod_7</th>\n",
       "      <th>embedding_prod_8</th>\n",
       "      <th>embedding_prod_9</th>\n",
       "      <th>TARGET</th>\n",
       "    </tr>\n",
       "  </thead>\n",
       "  <tbody>\n",
       "    <tr>\n",
       "      <th>0</th>\n",
       "      <td>1000083</td>\n",
       "      <td>254766</td>\n",
       "      <td>13.480142</td>\n",
       "      <td>7.022235</td>\n",
       "      <td>-2.22646</td>\n",
       "      <td>0.83374</td>\n",
       "      <td>-5.008583</td>\n",
       "      <td>-0.929953</td>\n",
       "      <td>-0.085661</td>\n",
       "      <td>-0.808933</td>\n",
       "      <td>...</td>\n",
       "      <td>-0.097733</td>\n",
       "      <td>0.088523</td>\n",
       "      <td>-0.210696</td>\n",
       "      <td>0.045591</td>\n",
       "      <td>0.025041</td>\n",
       "      <td>0.191104</td>\n",
       "      <td>0.073073</td>\n",
       "      <td>0.077276</td>\n",
       "      <td>-0.187381</td>\n",
       "      <td>0</td>\n",
       "    </tr>\n",
       "  </tbody>\n",
       "</table>\n",
       "<p>1 rows × 23 columns</p>\n",
       "</div>"
      ],
      "text/plain": [
       "   RUT_CLIENTE  CODIGO_PRODUCTO  embedding_0  embedding_1  embedding_2  \\\n",
       "0      1000083           254766    13.480142     7.022235     -2.22646   \n",
       "\n",
       "   embedding_3  embedding_4  embedding_5  embedding_6  embedding_7  ...  \\\n",
       "0      0.83374    -5.008583    -0.929953    -0.085661    -0.808933  ...   \n",
       "\n",
       "   embedding_prod_1  embedding_prod_2  embedding_prod_3  embedding_prod_4  \\\n",
       "0         -0.097733          0.088523         -0.210696          0.045591   \n",
       "\n",
       "   embedding_prod_5  embedding_prod_6  embedding_prod_7  embedding_prod_8  \\\n",
       "0          0.025041          0.191104          0.073073          0.077276   \n",
       "\n",
       "   embedding_prod_9  TARGET  \n",
       "0         -0.187381       0  \n",
       "\n",
       "[1 rows x 23 columns]"
      ]
     },
     "execution_count": 18,
     "metadata": {},
     "output_type": "execute_result"
    }
   ],
   "source": [
    "excluir = ['RUT_CLIENTE', 'TARGET','CODIGO_PRODUCTO']\n",
    "columnas_para_redondear = [col for col in pipeline_bm.dataset.columns if col not in excluir and (pipeline_bm.dataset[col].dtype == 'float64' or pipeline_bm.dataset[col].dtype == 'float32')]\n",
    "pipeline_bm.dataset[columnas_para_redondear] = pipeline_bm.dataset[columnas_para_redondear].round(8)\n",
    "print('Tamaño base de Entrenamiento: '+str(len(pipeline_bm.dataset)))  \n",
    "pipeline_bm.dataset.head(1)"
   ]
  },
  {
   "cell_type": "code",
   "execution_count": 19,
   "metadata": {},
   "outputs": [],
   "source": [
    "#pipeline_bm.dataset.to_csv('dataset_dev.csv',index=False,sep=';')"
   ]
  },
  {
   "cell_type": "code",
   "execution_count": 3,
   "metadata": {},
   "outputs": [],
   "source": [
    "pipeline_bm.dataset=pd.read_csv('dataset_dev.csv',sep=';')"
   ]
  },
  {
   "cell_type": "markdown",
   "metadata": {},
   "source": [
    "## **Modelación**"
   ]
  },
  {
   "cell_type": "code",
   "execution_count": 4,
   "metadata": {},
   "outputs": [
    {
     "name": "stdout",
     "output_type": "stream",
     "text": [
      "Procesando...\n",
      "cargar previamente pipeline_bm.dataset = nombre_dataframe\n"
     ]
    },
    {
     "name": "stdout",
     "output_type": "stream",
     "text": [
      "________________________________________________________________________________________________________________________\n",
      "Datos recibidos: OK.\n",
      "Número de filas y columnas del dataset: (37809170, 23)\n",
      "________________________________________________________________________________________________________________________\n"
     ]
    }
   ],
   "source": [
    "pipeline_bm.recibe_data(\n",
    "    tipo = 'dataframe',\n",
    "    dataset_o_query = '',\n",
    "    target = 'TARGET',\n",
    "    delimiter=';' ,\n",
    "    #muestra = 'MUESTRA',\n",
    "    #ano_mes = 'FECHA_VENTA',\n",
    "    rut = 'RUT_CLIENTE', \n",
    "    excluir=['CODIGO_PRODUCTO'],\n",
    "    categoricas=[]\n",
    ")"
   ]
  },
  {
   "cell_type": "code",
   "execution_count": 5,
   "metadata": {},
   "outputs": [
    {
     "name": "stdout",
     "output_type": "stream",
     "text": [
      "Separacion de muestras: OK.\n",
      "________________________________________________________________________________________________________________________\n"
     ]
    }
   ],
   "source": [
    "pipeline_bm.separa_muestras(test=0.3)"
   ]
  },
  {
   "cell_type": "code",
   "execution_count": 31,
   "metadata": {},
   "outputs": [
    {
     "name": "stdout",
     "output_type": "stream",
     "text": [
      "Fitting 3 folds for each of 1 candidates, totalling 3 fits\n",
      "[CV 1/3] END bootstrap=True, class_weight=balanced, criterion=gini, n_estimators=50, n_jobs=-1, oob_score=True, random_state=0;, score=0.944 total time=22.3min\n",
      "[CV 2/3] END bootstrap=True, class_weight=balanced, criterion=gini, n_estimators=50, n_jobs=-1, oob_score=True, random_state=0;, score=0.943 total time=21.1min\n",
      "[CV 3/3] END bootstrap=True, class_weight=balanced, criterion=gini, n_estimators=50, n_jobs=-1, oob_score=True, random_state=0;, score=0.943 total time=21.4min\n",
      "best params: {'bootstrap': True, 'class_weight': 'balanced', 'criterion': 'gini', 'n_estimators': 50, 'n_jobs': -1, 'oob_score': True, 'random_state': 0}\n",
      "best estimator: RandomForestClassifier(class_weight='balanced', n_estimators=50, n_jobs=-1,\n",
      "                       oob_score=True, random_state=0)\n",
      "ROC: 0.978717419903467\n",
      "Modelación: OK.\n",
      "________________________________________________________________________________________________________________________\n"
     ]
    }
   ],
   "source": [
    "pipeline_bm.modelacion('RandomForest', perf_eval='f1',ruta_exporta='G:/Mi unidad/SOCOFAR/2.- POS-Cross-Selling/Modelo_Supervisado/modelo_rf.joblib')"
   ]
  },
  {
   "cell_type": "code",
   "execution_count": 35,
   "metadata": {},
   "outputs": [],
   "source": [
    "#pipeline_bm.X_test.to_csv('X_test.csv',index=False,sep=';')\n",
    "#pd.DataFrame(pipeline_bm.Y_test).to_csv('Y_test.csv',index=False,sep=';')"
   ]
  },
  {
   "cell_type": "code",
   "execution_count": 6,
   "metadata": {},
   "outputs": [],
   "source": [
    "pipeline_bm.model=load('D:/modelo_rf.joblib')\n",
    "#pipeline_bm.X_test=pd.read_csv('X_test.csv',sep=';')\n",
    "#pipeline_bm.Y_test=pd.read_csv('Y_test.csv',sep=';')\n",
    "pipeline_bm.algoritmo='RandomForest'"
   ]
  },
  {
   "cell_type": "code",
   "execution_count": 13,
   "metadata": {},
   "outputs": [
    {
     "data": {
      "image/png": "[encoded data removed]",
      "text/plain": [
       "<Figure size 640x480 with 1 Axes>"
      ]
     },
     "metadata": {},
     "output_type": "display_data"
    },
    {
     "name": "stdout",
     "output_type": "stream",
     "text": [
      "ROC: 0.978717419903467\n"
     ]
    }
   ],
   "source": [
    "%matplotlib inline\n",
    "plot_roc_curve(pipeline_bm.model, pipeline_bm.X_test, pipeline_bm.Y_test)\n",
    "plt.title(pipeline_bm.algoritmo + ' ROC')\n",
    "plt.show()"
   ]
  },
  {
   "cell_type": "code",
   "execution_count": 11,
   "metadata": {},
   "outputs": [
    {
     "name": "stdout",
     "output_type": "stream",
     "text": [
      "\"ROC OPTIMO\"\n",
      "\n",
      "sens+espc:  1.8640811753964184\n",
      "KS:  0.8640811753964183\n",
      "threshold optimo:  0.559\n",
      "sensibility:  0.9520366137134457\n",
      "specificity:  0.9120445616829725\n",
      "precision:  0.9341190995838141\n",
      "negative predictive value:  0.9355514393380275\n",
      "Critical Success Index:  0.8921346147374487\n",
      "accuracy:  0.9347235957132445\n",
      "f1score:  0.9429927530407141\n",
      "BalancedAccuracy:  0.9320405876982092\n"
     ]
    },
    {
     "data": {
      "text/html": [
       "<div>\n",
       "<style scoped>\n",
       "    .dataframe tbody tr th:only-of-type {\n",
       "        vertical-align: middle;\n",
       "    }\n",
       "\n",
       "    .dataframe tbody tr th {\n",
       "        vertical-align: top;\n",
       "    }\n",
       "\n",
       "    .dataframe thead th {\n",
       "        text-align: right;\n",
       "    }\n",
       "</style>\n",
       "<table border=\"1\" class=\"dataframe\">\n",
       "  <thead>\n",
       "    <tr style=\"text-align: right;\">\n",
       "      <th>TARGET</th>\n",
       "      <th>0</th>\n",
       "      <th>1</th>\n",
       "    </tr>\n",
       "    <tr>\n",
       "      <th>pred</th>\n",
       "      <th></th>\n",
       "      <th></th>\n",
       "    </tr>\n",
       "  </thead>\n",
       "  <tbody>\n",
       "    <tr>\n",
       "      <th>0</th>\n",
       "      <td>4478510</td>\n",
       "      <td>308517</td>\n",
       "    </tr>\n",
       "    <tr>\n",
       "      <th>1</th>\n",
       "      <td>431897</td>\n",
       "      <td>6123827</td>\n",
       "    </tr>\n",
       "  </tbody>\n",
       "</table>\n",
       "</div>"
      ],
      "text/plain": [
       "TARGET        0        1\n",
       "pred                    \n",
       "0       4478510   308517\n",
       "1        431897  6123827"
      ]
     },
     "execution_count": 11,
     "metadata": {},
     "output_type": "execute_result"
    }
   ],
   "source": [
    "pipeline_bm.metricas_modelo_optimo()\n",
    "pipeline_bm.confusion_matrix"
   ]
  },
  {
   "cell_type": "markdown",
   "metadata": {},
   "source": [
    "Lo esperable es que el modelo ajuste en extremo bien ya que se le proporcionan implicitamente lo productos que compró a través del embedding del cliente. \n",
    "Lo importante acá es que, de cara al uso, la probabilidad hacia un producto no comprado por el cliente será más alta en la medida en que el embedding del cliente contenga el resto de productos que normalmente los clientes compran junto con el.\n",
    "\n",
    "No confundir el acierto del modelo en el conjunto de test con el grado de efectividad esperado en las recomendaciones. Para esto último se puede realizar una aproximación más realista mediante una evaluación \"offline\" en un conjunto de datos OOT."
   ]
  },
  {
   "cell_type": "code",
   "execution_count": null,
   "metadata": {},
   "outputs": [],
   "source": []
  },
  {
   "cell_type": "markdown",
   "metadata": {},
   "source": [
    "## **EVALUACIÓN EN OOT**\n",
    "\n",
    "* Se evalúa en ventana temporal posterior al train/test la performance del modelo \n",
    "* Escenarios: \n",
    "    1) Se consideraran todos los productos excepto exclusiones; escenario de aprendizaje\n",
    "    2) Se consideraran productos no comprados en el periodo de train/test y no excluidos; escenario ácido/real.\n"
   ]
  },
  {
   "cell_type": "code",
   "execution_count": 2,
   "metadata": {},
   "outputs": [],
   "source": [
    "#importar MODELO Y VARIABLES del desarrollo\n",
    "#model=Word2Vec.load(\"modelo_word2vec.bin\")\n",
    "pipeline_bm.threshold=0.559\n",
    "clientes_embedd=pd.read_csv('clientes_embeddings.csv',sep=';')\n",
    "productos_embedd=pd.read_csv('productos_embeddings.csv',sep=';')"
   ]
  },
  {
   "cell_type": "markdown",
   "metadata": {},
   "source": [
    "**1) Evaluación modelo mismas condiciones considerando todos los productos (incluye ya comprados, pero se filtran productos excluidos)--> Escenario Entrenamiento**"
   ]
  },
  {
   "cell_type": "code",
   "execution_count": 33,
   "metadata": {},
   "outputs": [
    {
     "name": "stdout",
     "output_type": "stream",
     "text": [
      "tamaño dataset inicial: 25320225\n"
     ]
    }
   ],
   "source": [
    "with open('G:\\\\Mi unidad\\\\SOCOFAR\\\\0.-Recomendadores-Oficial\\\\Archivos\\\\Recomendaciones_PDC_NOV23_ENE24\\\\SR_BASE_FINAL_PROD_NOV23_ENE24.csv', 'rb') as file:\n",
    "    content = file.read().replace(b'\\x00', b'')\n",
    "    \n",
    "content_str = StringIO(content.decode('latin'))\n",
    "df_test_oot = pd.read_csv(content_str, sep=';', encoding='latin')#,nrows=10000000)\n",
    "df_test_oot['RUT_CLIENTE']=((df_test_oot['SK']+1599)/2).astype(int)\n",
    "print('tamaño dataset inicial: '+str(len(df_test_oot)))"
   ]
  },
  {
   "cell_type": "code",
   "execution_count": 34,
   "metadata": {},
   "outputs": [],
   "source": [
    "#no considerar predicciones sobre productos no recomendables (exclusiones)\n",
    "diccionario=pd.read_csv('../diccionario_productos.csv',sep=';',usecols=['CODIGO','UNIDAD_COMERCIAL','MACROCATEGORIA','CATEGORIA_NIVEL_1','CATEGORIA_NIVEL_2_FCV','DESCRIPTOR_LARGO','MARCA'])\n",
    "\n",
    "excl_otros = [str(elemento) for elemento in list(diccionario[diccionario.DESCRIPTOR_LARGO.isin(['DESPACHO','DESP.A','RETIRO DE RECETA','PROMOCION DTE','HORA VACUNACION','INSUMOS BOLSAS','SIN DESCRIPTOR','AJUSTE POR REDONDEO'])]['CODIGO'])] +\\\n",
    "                          [str(elemento) for elemento in list(diccionario[diccionario.DESCRIPTOR_LARGO.str.contains('BOLSA PAPEL|BOLS|DESPACHO|PROMOCION|CUPON|INYECCION|MEDICION|MEMBRESIA|REGALO|2020|2021|2022|MUNDIAL')]['CODIGO'])] +\\\n",
    "                          [str(elemento) for elemento in list(diccionario[diccionario.MACROCATEGORIA.isin(['ENFERMERIA ACCESORIOS Y PROCEDIMIENTOS','HOGAR','RECARGAS VARIAS','BEBIDAS Y AGUAS','ACCESORIOS MODA','TECNOLOGIA','AUTOLIQUIDABLES REGALO ARTICULOS VARIOS','INSUMOS MACRO','EQUIPOS QUIRURGICOS','POR CLASIFICAR'])]['CODIGO'])] +\\\n",
    "                          [str(elemento) for elemento in list(diccionario[diccionario.CATEGORIA_NIVEL_1.isin(['MASCARILLAS PRIMEROS AUXILIOS'])]['CODIGO'])] +\\\n",
    "                          [str(elemento) for elemento in list(diccionario[diccionario.UNIDAD_COMERCIAL.isin(['INSTITUCIONAL'])]['CODIGO'])]\n",
    "\n",
    "cods_excluir = pd.read_csv('G:/Mi unidad/SOCOFAR/0.-Recomendadores-Oficial/Archivos/codigos_exclusion.csv',sep=';').excluir.values.tolist() + excl_otros\n",
    "cods_excluir = [int(cod) for cod in cods_excluir]\n",
    "df_test_oot_1=df_test_oot[~df_test_oot.CODIGO_PRODUCTO.isin(cods_excluir)]\n",
    "\n",
    "#Generación dataset de variables explicativas de los clientes del OOT (en base a información de DEV)\n",
    "#1)carga de clientes con los respectivos productos comprados dataframe OOT y caracteristicas (embedding cliente)\n",
    "df_test_oot_1=pd.merge(df_test_oot_1[['RUT_CLIENTE','CODIGO_PRODUCTO']],clientes_embedd,on='RUT_CLIENTE',how='left')\n",
    "df_test_oot_1=df_test_oot_1.dropna(subset=['RUT_CLIENTE'])\n",
    "#Elimina clientes nuevos (sin embbeding) --> en escenario \"COLD START\" a estos primero se les calcula el embedding de cliente de acuerdo a un grupo de productos proporcionado\n",
    "df_test_oot_1=df_test_oot_1.dropna(subset=['RUT_CLIENTE','embedding_0'])\n",
    "\n",
    "#2) Complemento con emmbeding de los respectivos productos comprados en el OOT --> si producto no se encuentra solo se podría deber a que es un producto no existente en compras del UAM\n",
    "df_test_oot_1=pd.merge(df_test_oot_1,productos_embedd,on='CODIGO_PRODUCTO',how='left')\n",
    "df_test_oot_1=df_test_oot_1.dropna(subset=['RUT_CLIENTE','embedding_prod_0'])\n",
    "df_test_oot_1['TARGET']=1\n"
   ]
  },
  {
   "cell_type": "code",
   "execution_count": 35,
   "metadata": {},
   "outputs": [],
   "source": [
    "#Evaluación solo de clientes en OOT\n",
    "df_test_oot_0=pd.merge(df_test_oot[['RUT_CLIENTE']].drop_duplicates(),clientes_embedd,on='RUT_CLIENTE',how='left')\n",
    "df_test_oot_0=df_test_oot_0.dropna(subset=['RUT_CLIENTE','embedding_0'])\n",
    "\n",
    "n=1 #veces que duplicar a los clientes para muestrear no comprados\n",
    "df_test_oot_0 = pd.concat([df_test_oot_0] * n, ignore_index=True)\n",
    "\n",
    "# Paso 1: Generar índices aleatorios\n",
    "num_clientes = len(df_test_oot_0)\n",
    "productos_embedd=productos_embedd[~productos_embedd.CODIGO_PRODUCTO.isin(cods_excluir)]\n",
    "indices_aleatorios = np.random.choice(productos_embedd.index, size=num_clientes, replace=True)\n",
    "\n",
    "# Paso 2: Asignar registros aleatorios a clientes\n",
    "for columna in productos_embedd.columns:\n",
    "    # Usar los índices aleatorios para seleccionar los valores de productos_embedd y asignarlos a df_cli_embedd\n",
    "    df_test_oot_0[f'{columna}'] = productos_embedd.loc[indices_aleatorios, columna].values\n",
    "\n",
    "# Paso 3: Eliminar posibles casos target=1\n",
    "df_test_oot_0 = pd.merge(df_test_oot_0, df_test_oot[['RUT_CLIENTE','CODIGO_PRODUCTO']], on=['RUT_CLIENTE','CODIGO_PRODUCTO'], how='left', indicator=True).loc[lambda x: x['_merge'] == 'left_only']\n",
    "df_test_oot_0 = df_test_oot_0.drop(columns=['_merge']) #elimina aquellos que si cruzan en el historico de transacciones\n",
    "columnas = list(df_test_oot_0.columns)\n",
    "columnas.remove('CODIGO_PRODUCTO') \n",
    "columnas.insert(1,'CODIGO_PRODUCTO')\n",
    "df_test_oot_0 = df_test_oot_0[columnas]    \n",
    "\n",
    "df_test_oot_0['TARGET']=0"
   ]
  },
  {
   "cell_type": "code",
   "execution_count": 36,
   "metadata": {},
   "outputs": [],
   "source": [
    "df_test_oot_final = pd.concat([df_test_oot_0,df_test_oot_1],axis=0)"
   ]
  },
  {
   "cell_type": "code",
   "execution_count": 37,
   "metadata": {},
   "outputs": [
    {
     "data": {
      "text/plain": [
       "105"
      ]
     },
     "execution_count": 37,
     "metadata": {},
     "output_type": "execute_result"
    }
   ],
   "source": [
    "df_test_oot_1=[]\n",
    "df_test_oot_0=[]\n",
    "gc.collect()"
   ]
  },
  {
   "cell_type": "code",
   "execution_count": 39,
   "metadata": {},
   "outputs": [
    {
     "data": {
      "text/html": [
       "<div>\n",
       "<style scoped>\n",
       "    .dataframe tbody tr th:only-of-type {\n",
       "        vertical-align: middle;\n",
       "    }\n",
       "\n",
       "    .dataframe tbody tr th {\n",
       "        vertical-align: top;\n",
       "    }\n",
       "\n",
       "    .dataframe thead th {\n",
       "        text-align: right;\n",
       "    }\n",
       "</style>\n",
       "<table border=\"1\" class=\"dataframe\">\n",
       "  <thead>\n",
       "    <tr style=\"text-align: right;\">\n",
       "      <th>TARGET</th>\n",
       "      <th>0</th>\n",
       "      <th>1</th>\n",
       "    </tr>\n",
       "    <tr>\n",
       "      <th>PREDICT</th>\n",
       "      <th></th>\n",
       "      <th></th>\n",
       "    </tr>\n",
       "  </thead>\n",
       "  <tbody>\n",
       "    <tr>\n",
       "      <th>0</th>\n",
       "      <td>3430489</td>\n",
       "      <td>2065135</td>\n",
       "    </tr>\n",
       "    <tr>\n",
       "      <th>1</th>\n",
       "      <td>731561</td>\n",
       "      <td>9637298</td>\n",
       "    </tr>\n",
       "  </tbody>\n",
       "</table>\n",
       "</div>"
      ],
      "text/plain": [
       "TARGET         0        1\n",
       "PREDICT                  \n",
       "0        3430489  2065135\n",
       "1         731561  9637298"
      ]
     },
     "execution_count": 39,
     "metadata": {},
     "output_type": "execute_result"
    }
   ],
   "source": [
    "# df_test_oot_final = df_test_oot_final.groupby('TARGET', group_keys=False).apply(lambda x: x.sample(frac=0.3)) --> en caso de ser necesario muestrear\n",
    "#- Prediccion de modelo respecto de esos productos considerando el threshold del modelo optimo  (Recall) ==> Para esta validación considera solo el vector de productos vendidos por cliente y no la predicción sobre los \"no vendidos\" (TN y FN) solo por un tema de volumen de procesamiento\n",
    "threshold=pipeline_bm.threshold\n",
    "#threshold=pipeline_bm.threshold\n",
    "pipeline_bm.model = load('modelo_rf.joblib')\n",
    "df_test_oot_final['PROBABILIDAD']=pipeline_bm.model.predict_proba(df_test_oot_final.iloc[:,2:-1])[:,1]\n",
    "df_test_oot_final['PREDICT'] = (df_test_oot_final['PROBABILIDAD'] > threshold).astype(int)\n",
    "\n",
    "pd.crosstab(df_test_oot_final.PREDICT,df_test_oot_final.TARGET)"
   ]
  },
  {
   "cell_type": "code",
   "execution_count": 40,
   "metadata": {},
   "outputs": [
    {
     "name": "stdout",
     "output_type": "stream",
     "text": [
      "              precision    recall  f1-score   support\n",
      "\n",
      "No Recommend       0.62      0.82      0.71   4162050\n",
      " Recommended       0.93      0.82      0.87  11702433\n",
      "\n",
      "    accuracy                           0.82  15864483\n",
      "   macro avg       0.78      0.82      0.79  15864483\n",
      "weighted avg       0.85      0.82      0.83  15864483\n",
      "\n"
     ]
    }
   ],
   "source": [
    "print(classification_report(df_test_oot_final.TARGET, df_test_oot_final.PREDICT, target_names=['No Recommend','Recommended']))"
   ]
  },
  {
   "cell_type": "markdown",
   "metadata": {},
   "source": [
    "**2) Evaluación exclusiva de productos complementarios (excluye comprados en UAM y se filtran productos excluidos) --> Escenario Real**"
   ]
  },
  {
   "cell_type": "code",
   "execution_count": 3,
   "metadata": {},
   "outputs": [
    {
     "name": "stdout",
     "output_type": "stream",
     "text": [
      "tamaño dataset inicial: 25320225\n"
     ]
    }
   ],
   "source": [
    "with open('G:\\\\Mi unidad\\\\SOCOFAR\\\\0.-Recomendadores-Oficial\\\\Archivos\\\\Recomendaciones_PDC_NOV23_ENE24\\\\SR_BASE_FINAL_PROD_NOV23_ENE24.csv', 'rb') as file:\n",
    "    content = file.read().replace(b'\\x00', b'')\n",
    "\n",
    "content_str = StringIO(content.decode('latin'))\n",
    "df_test_oot = pd.read_csv(content_str, sep=';', encoding='latin')#,nrows=10000000)\n",
    "df_test_oot['RUT_CLIENTE']=((df_test_oot['SK']+1599)/2).astype(int)\n",
    "print('tamaño dataset inicial: '+str(len(df_test_oot)))"
   ]
  },
  {
   "cell_type": "code",
   "execution_count": 4,
   "metadata": {},
   "outputs": [
    {
     "name": "stdout",
     "output_type": "stream",
     "text": [
      "tamaño dataset inicial: 89797463\n"
     ]
    }
   ],
   "source": [
    "#tratamiento de bytes nulos en el archivo\n",
    "with open('G:\\\\Mi unidad\\\\SOCOFAR\\\\0.-Recomendadores-Oficial\\\\Archivos\\\\Recomendaciones_PDC_OCT23\\\\SR_BASE_FINAL_PROD_OCT23.csv', 'rb') as file:\n",
    "    content = file.read().replace(b'\\x00', b'')  \n",
    "\n",
    "content_str = StringIO(content.decode('latin'))\n",
    "df = pd.read_csv(content_str, sep=';', encoding='latin')#,nrows=1000000)\n",
    "df['RUT_CLIENTE']=((df['SK']+1599)/2).astype(int)\n",
    "print('tamaño dataset inicial: '+str(len(df)))"
   ]
  },
  {
   "cell_type": "code",
   "execution_count": 5,
   "metadata": {},
   "outputs": [],
   "source": [
    "#Excluye productos comprados anteriormente UAM --> Se restringe a evaluacion productos no comprados por el cliente en DEV (ya que se recomendaran productos complementarios no comprados anteriormente por el cliente)\n",
    "df_test_oot=pd.merge(df_test_oot[['RUT_CLIENTE','CODIGO_PRODUCTO']],df,on=['RUT_CLIENTE','CODIGO_PRODUCTO'],how='left')\n",
    "df_test_oot=df_test_oot[df_test_oot.SK.isna()]\n",
    "df_test_oot.head(1)\n",
    "\n",
    "#No considerar predicciones sobre productos no recomendables (exclusiones)\n",
    "diccionario=pd.read_csv('../diccionario_productos.csv',sep=';',usecols=['CODIGO','UNIDAD_COMERCIAL','MACROCATEGORIA','CATEGORIA_NIVEL_1','CATEGORIA_NIVEL_2_FCV','DESCRIPTOR_LARGO','MARCA'])\n",
    "\n",
    "excl_otros = [str(elemento) for elemento in list(diccionario[diccionario.DESCRIPTOR_LARGO.isin(['DESPACHO','DESP.A','RETIRO DE RECETA','PROMOCION DTE','HORA VACUNACION','INSUMOS BOLSAS','SIN DESCRIPTOR','AJUSTE POR REDONDEO'])]['CODIGO'])] +\\\n",
    "                          [str(elemento) for elemento in list(diccionario[diccionario.DESCRIPTOR_LARGO.str.contains('BOLSA PAPEL|BOLS|DESPACHO|PROMOCION|CUPON|INYECCION|MEDICION|MEMBRESIA|REGALO|2020|2021|2022|MUNDIAL')]['CODIGO'])] +\\\n",
    "                          [str(elemento) for elemento in list(diccionario[diccionario.MACROCATEGORIA.isin(['ENFERMERIA ACCESORIOS Y PROCEDIMIENTOS','HOGAR','RECARGAS VARIAS','BEBIDAS Y AGUAS','ACCESORIOS MODA','TECNOLOGIA','AUTOLIQUIDABLES REGALO ARTICULOS VARIOS','INSUMOS MACRO','EQUIPOS QUIRURGICOS','POR CLASIFICAR'])]['CODIGO'])] +\\\n",
    "                          [str(elemento) for elemento in list(diccionario[diccionario.CATEGORIA_NIVEL_1.isin(['MASCARILLAS PRIMEROS AUXILIOS'])]['CODIGO'])] +\\\n",
    "                          [str(elemento) for elemento in list(diccionario[diccionario.UNIDAD_COMERCIAL.isin(['INSTITUCIONAL'])]['CODIGO'])]\n",
    "\n",
    "cods_excluir = pd.read_csv('G:/Mi unidad/SOCOFAR/0.-Recomendadores-Oficial/Archivos/codigos_exclusion.csv',sep=';').excluir.values.tolist() + excl_otros\n",
    "cods_excluir = [int(cod) for cod in cods_excluir]\n",
    "\n",
    "df_test_oot=df_test_oot[~df_test_oot.CODIGO_PRODUCTO.isin(cods_excluir)]"
   ]
  },
  {
   "cell_type": "code",
   "execution_count": 6,
   "metadata": {},
   "outputs": [],
   "source": [
    "#Generación dataset de variables explicativas de los clientes del OOT (en base a información de DEV)\n",
    "#1)Carga de clientes con los respectivos productos comprados dataframe OOT y caracteristicas (embedding cliente)\n",
    "df_test_oot_1=pd.merge(df_test_oot[['RUT_CLIENTE','CODIGO_PRODUCTO']],clientes_embedd,on='RUT_CLIENTE',how='left')\n",
    "df_test_oot_1=df_test_oot_1.dropna(subset=['RUT_CLIENTE'])\n",
    "\n",
    "#Elimina clientes nuevos (sin embbeding) --> en escenario \"COLD START\" a estos primero se les calcula el embedding de cliente de acuerdo a un grupo de productos proporcionado\n",
    "df_test_oot_1=df_test_oot_1.dropna(subset=['RUT_CLIENTE','embedding_0'])\n",
    "\n",
    "#2) Complemento con emmbeding de los respectivos productos comprados en el OOT --> si producto no se encuentra solo se podría deber a que es un producto no existente en compras del UAM\n",
    "df_test_oot_1=pd.merge(df_test_oot_1,productos_embedd,on='CODIGO_PRODUCTO',how='left')\n",
    "df_test_oot_1=df_test_oot_1.dropna(subset=['RUT_CLIENTE','embedding_prod_0'])\n",
    "\n",
    "df_test_oot_1['TARGET']=1"
   ]
  },
  {
   "cell_type": "code",
   "execution_count": 7,
   "metadata": {},
   "outputs": [],
   "source": [
    "#Evaluación solo de clientes en OOT\n",
    "df_test_oot_0=pd.merge(df_test_oot[['RUT_CLIENTE']].drop_duplicates(),clientes_embedd,on='RUT_CLIENTE',how='left')\n",
    "df_test_oot_0=df_test_oot_0.dropna(subset=['RUT_CLIENTE','embedding_0'])\n",
    "\n",
    "n=1 #veces que duplicar a los clientes para muestrear no comprados\n",
    "df_test_oot_0 = pd.concat([df_test_oot_0] * n, ignore_index=True)\n",
    "\n",
    "# Paso 1: Generar índices aleatorios\n",
    "num_clientes = len(df_test_oot_0)\n",
    "productos_embedd=productos_embedd[~productos_embedd.CODIGO_PRODUCTO.isin(cods_excluir)]\n",
    "indices_aleatorios = np.random.choice(productos_embedd.index, size=num_clientes, replace=True)\n",
    "\n",
    "# Paso 2: Asignar registros aleatorios a clientes\n",
    "for columna in productos_embedd.columns:\n",
    "    # Usar los índices aleatorios para seleccionar los valores de productos_embedd y asignarlos a df_cli_embedd\n",
    "    df_test_oot_0[f'{columna}'] = productos_embedd.loc[indices_aleatorios, columna].values\n",
    "\n",
    "# Paso 3: Eliminar posibles casos target=1\n",
    "df_test_oot_0 = pd.merge(df_test_oot_0, df_test_oot[['RUT_CLIENTE','CODIGO_PRODUCTO']], on=['RUT_CLIENTE','CODIGO_PRODUCTO'], how='left', indicator=True).loc[lambda x: x['_merge'] == 'left_only']\n",
    "df_test_oot_0 = df_test_oot_0.drop(columns=['_merge']) #elimina aquellos que si cruzan en el historico de transacciones\n",
    "columnas = list(df_test_oot_0.columns)\n",
    "columnas.remove('CODIGO_PRODUCTO') \n",
    "columnas.insert(1,'CODIGO_PRODUCTO')\n",
    "df_test_oot_0 = df_test_oot_0[columnas]    \n",
    "\n",
    "df_test_oot_0['TARGET']=0"
   ]
  },
  {
   "cell_type": "code",
   "execution_count": 8,
   "metadata": {},
   "outputs": [],
   "source": [
    "df_test_oot_final = pd.concat([df_test_oot_0,df_test_oot_1],axis=0)"
   ]
  },
  {
   "cell_type": "code",
   "execution_count": 9,
   "metadata": {},
   "outputs": [
    {
     "name": "stdout",
     "output_type": "stream",
     "text": [
      "Memoria usada después de gc.collect(): 8.03 GB\n"
     ]
    }
   ],
   "source": [
    "df_test_oot_1=[]\n",
    "df_test_oot_0=[]\n",
    "gc.collect()\n",
    "print(f\"Memoria usada después de gc.collect(): {psutil.virtual_memory().used / (1024**3):.2f} GB\")"
   ]
  },
  {
   "cell_type": "code",
   "execution_count": 10,
   "metadata": {},
   "outputs": [],
   "source": [
    "#- Prediccion de modelo respecto de esos productos considerando el threshold del modelo optimo  (Recall) ==> Para esta validación considera solo el vector de productos vendidos por cliente y no la predicción sobre los \"no vendidos\" (TN y FN) solo por un tema de volumen de procesamiento\n",
    "threshold=pipeline_bm.threshold\n",
    "pipeline_bm.model = load('modelo_rf.joblib')\n",
    "df_test_oot_final['PROBABILIDAD']=pipeline_bm.model.predict_proba(df_test_oot_final.iloc[:,2:-1])[:,1]\n",
    "df_test_oot_final['PREDICT'] = (df_test_oot_final['PROBABILIDAD'] > threshold).astype(int)"
   ]
  },
  {
   "cell_type": "code",
   "execution_count": 18,
   "metadata": {},
   "outputs": [
    {
     "data": {
      "text/html": [
       "<div>\n",
       "<style scoped>\n",
       "    .dataframe tbody tr th:only-of-type {\n",
       "        vertical-align: middle;\n",
       "    }\n",
       "\n",
       "    .dataframe tbody tr th {\n",
       "        vertical-align: top;\n",
       "    }\n",
       "\n",
       "    .dataframe thead th {\n",
       "        text-align: right;\n",
       "    }\n",
       "</style>\n",
       "<table border=\"1\" class=\"dataframe\">\n",
       "  <thead>\n",
       "    <tr style=\"text-align: right;\">\n",
       "      <th>TARGET</th>\n",
       "      <th>0</th>\n",
       "      <th>1</th>\n",
       "    </tr>\n",
       "    <tr>\n",
       "      <th>PREDICT</th>\n",
       "      <th></th>\n",
       "      <th></th>\n",
       "    </tr>\n",
       "  </thead>\n",
       "  <tbody>\n",
       "    <tr>\n",
       "      <th>0</th>\n",
       "      <td>2389538</td>\n",
       "      <td>2040915</td>\n",
       "    </tr>\n",
       "    <tr>\n",
       "      <th>1</th>\n",
       "      <td>580599</td>\n",
       "      <td>7639967</td>\n",
       "    </tr>\n",
       "  </tbody>\n",
       "</table>\n",
       "</div>"
      ],
      "text/plain": [
       "TARGET         0        1\n",
       "PREDICT                  \n",
       "0        2389538  2040915\n",
       "1         580599  7639967"
      ]
     },
     "execution_count": 18,
     "metadata": {},
     "output_type": "execute_result"
    }
   ],
   "source": [
    "pd.crosstab(df_test_oot_final.PREDICT,df_test_oot_final.TARGET)"
   ]
  },
  {
   "cell_type": "code",
   "execution_count": 19,
   "metadata": {},
   "outputs": [
    {
     "name": "stdout",
     "output_type": "stream",
     "text": [
      "              precision    recall  f1-score   support\n",
      "\n",
      "No Recommend       0.54      0.80      0.65   2970137\n",
      " Recommended       0.93      0.79      0.85   9680882\n",
      "\n",
      "    accuracy                           0.79  12651019\n",
      "   macro avg       0.73      0.80      0.75  12651019\n",
      "weighted avg       0.84      0.79      0.80  12651019\n",
      "\n"
     ]
    }
   ],
   "source": [
    "print(classification_report(df_test_oot_final.TARGET, df_test_oot_final.PREDICT, target_names=['No Recommend','Recommended']))"
   ]
  },
  {
   "cell_type": "code",
   "execution_count": null,
   "metadata": {},
   "outputs": [],
   "source": []
  },
  {
   "cell_type": "markdown",
   "metadata": {},
   "source": [
    "**REVISIONES CASOS**"
   ]
  },
  {
   "cell_type": "code",
   "execution_count": 42,
   "metadata": {},
   "outputs": [],
   "source": [
    "diccionario=pd.read_csv('G:/Mi unidad/SOCOFAR/0.-Recomendadores-Oficial/Archivos/diccionario_productos.csv',sep=';',encoding='UTF-8')\n",
    "df_test_oot_final = pd.merge(df_test_oot_final, diccionario, left_on='CODIGO_PRODUCTO', right_on='CODIGO', how='left')\n",
    "df_test_oot = pd.merge(df_test_oot, diccionario, left_on='CODIGO_PRODUCTO', right_on='CODIGO', how='left')\n",
    "df = pd.merge(df, diccionario, left_on='CODIGO_PRODUCTO', right_on='CODIGO', how='left')"
   ]
  },
  {
   "cell_type": "code",
   "execution_count": 48,
   "metadata": {},
   "outputs": [
    {
     "data": {
      "text/html": [
       "<div>\n",
       "<style scoped>\n",
       "    .dataframe tbody tr th:only-of-type {\n",
       "        vertical-align: middle;\n",
       "    }\n",
       "\n",
       "    .dataframe tbody tr th {\n",
       "        vertical-align: top;\n",
       "    }\n",
       "\n",
       "    .dataframe thead th {\n",
       "        text-align: right;\n",
       "    }\n",
       "</style>\n",
       "<table border=\"1\" class=\"dataframe\">\n",
       "  <thead>\n",
       "    <tr style=\"text-align: right;\">\n",
       "      <th></th>\n",
       "      <th>RUT_CLIENTE</th>\n",
       "      <th>CODIGO_PRODUCTO</th>\n",
       "      <th>embedding_0</th>\n",
       "      <th>embedding_1</th>\n",
       "      <th>embedding_2</th>\n",
       "      <th>embedding_3</th>\n",
       "      <th>embedding_4</th>\n",
       "      <th>embedding_5</th>\n",
       "      <th>embedding_6</th>\n",
       "      <th>embedding_7</th>\n",
       "      <th>...</th>\n",
       "      <th>PROBABILIDAD</th>\n",
       "      <th>PREDICT</th>\n",
       "      <th>CODIGO</th>\n",
       "      <th>UNIDAD_COMERCIAL</th>\n",
       "      <th>MACROCATEGORIA</th>\n",
       "      <th>CATEGORIA_NIVEL_1</th>\n",
       "      <th>CATEGORIA_NIVEL_2_FCV</th>\n",
       "      <th>DESCRIPTOR_LARGO</th>\n",
       "      <th>MARCA</th>\n",
       "      <th>GENERO</th>\n",
       "    </tr>\n",
       "  </thead>\n",
       "  <tbody>\n",
       "    <tr>\n",
       "      <th>2970175</th>\n",
       "      <td>12531168</td>\n",
       "      <td>296818</td>\n",
       "      <td>1.062703</td>\n",
       "      <td>-0.470706</td>\n",
       "      <td>2.053578</td>\n",
       "      <td>-1.265371</td>\n",
       "      <td>0.567018</td>\n",
       "      <td>-0.538847</td>\n",
       "      <td>0.466072</td>\n",
       "      <td>-0.079015</td>\n",
       "      <td>...</td>\n",
       "      <td>0.98</td>\n",
       "      <td>1</td>\n",
       "      <td>296818.0</td>\n",
       "      <td>BELLEZA Y CUIDADO PERSONAL</td>\n",
       "      <td>CUIDADO FACIAL</td>\n",
       "      <td>ESTUCHES CUIDADO FACIAL</td>\n",
       "      <td>CUIDADO FACIAL ESTUCHES</td>\n",
       "      <td>PETRIZZIO HIDRA SHOCK CREMA HIDRATANTE INT.DIA...</td>\n",
       "      <td>PETRIZZIO</td>\n",
       "      <td>SIN CLASIFICACION</td>\n",
       "    </tr>\n",
       "    <tr>\n",
       "      <th>2970176</th>\n",
       "      <td>10033077</td>\n",
       "      <td>298057</td>\n",
       "      <td>-0.720849</td>\n",
       "      <td>-0.204217</td>\n",
       "      <td>-0.282643</td>\n",
       "      <td>0.026229</td>\n",
       "      <td>-0.529279</td>\n",
       "      <td>-1.021251</td>\n",
       "      <td>-2.269705</td>\n",
       "      <td>-0.025283</td>\n",
       "      <td>...</td>\n",
       "      <td>1.00</td>\n",
       "      <td>1</td>\n",
       "      <td>298057.0</td>\n",
       "      <td>BELLEZA Y CUIDADO PERSONAL</td>\n",
       "      <td>HIGIENE BUCAL</td>\n",
       "      <td>CEPILLOS DENTALES</td>\n",
       "      <td>INTERDENTAL</td>\n",
       "      <td>PHB CEPILLO INTERDENTAL FLEXI EXTRAFINO DOBLE ...</td>\n",
       "      <td>PHB</td>\n",
       "      <td>NO APLICA</td>\n",
       "    </tr>\n",
       "    <tr>\n",
       "      <th>2970177</th>\n",
       "      <td>6013860</td>\n",
       "      <td>541879</td>\n",
       "      <td>1.041929</td>\n",
       "      <td>-0.719336</td>\n",
       "      <td>-0.774628</td>\n",
       "      <td>0.941536</td>\n",
       "      <td>0.267588</td>\n",
       "      <td>0.346594</td>\n",
       "      <td>-0.983223</td>\n",
       "      <td>-0.640467</td>\n",
       "      <td>...</td>\n",
       "      <td>0.92</td>\n",
       "      <td>1</td>\n",
       "      <td>541879.0</td>\n",
       "      <td>FARMA</td>\n",
       "      <td>ANALGESIA</td>\n",
       "      <td>DOLOR Y FIEBRE</td>\n",
       "      <td>DOLOR Y FIEBRE ANALGESIA</td>\n",
       "      <td>ALIVIDOL COMPRIMIDOS 1 GRAMO X20</td>\n",
       "      <td>ALIVIDOL</td>\n",
       "      <td>SIN CLASIFICACION</td>\n",
       "    </tr>\n",
       "    <tr>\n",
       "      <th>2970178</th>\n",
       "      <td>9106274</td>\n",
       "      <td>268493</td>\n",
       "      <td>0.854340</td>\n",
       "      <td>0.955198</td>\n",
       "      <td>-0.075103</td>\n",
       "      <td>0.902365</td>\n",
       "      <td>-0.622136</td>\n",
       "      <td>1.165381</td>\n",
       "      <td>-3.114947</td>\n",
       "      <td>-0.512445</td>\n",
       "      <td>...</td>\n",
       "      <td>0.72</td>\n",
       "      <td>1</td>\n",
       "      <td>268493.0</td>\n",
       "      <td>BELLEZA Y CUIDADO PERSONAL</td>\n",
       "      <td>DESODORANTES CORPORALES</td>\n",
       "      <td>DEO MUJER</td>\n",
       "      <td>DEO MUJER BARRA</td>\n",
       "      <td>LADY SPEED STICK PRO 5 EN1 DESODORANTE BARRA 4...</td>\n",
       "      <td>LADY SPEED STICK</td>\n",
       "      <td>MUJER</td>\n",
       "    </tr>\n",
       "    <tr>\n",
       "      <th>2970179</th>\n",
       "      <td>16539815</td>\n",
       "      <td>276819</td>\n",
       "      <td>0.116905</td>\n",
       "      <td>-0.045271</td>\n",
       "      <td>-0.423868</td>\n",
       "      <td>-1.088375</td>\n",
       "      <td>0.883589</td>\n",
       "      <td>-0.760762</td>\n",
       "      <td>2.013361</td>\n",
       "      <td>0.627242</td>\n",
       "      <td>...</td>\n",
       "      <td>0.98</td>\n",
       "      <td>1</td>\n",
       "      <td>276819.0</td>\n",
       "      <td>BELLEZA Y CUIDADO PERSONAL</td>\n",
       "      <td>DESODORANTES CORPORALES</td>\n",
       "      <td>DEO HOMBRE</td>\n",
       "      <td>DEO HOMBRE SPRAY</td>\n",
       "      <td>OLD SPICE DESODORANTE BODY SPRAY LENA 150ML</td>\n",
       "      <td>OLD SPICE</td>\n",
       "      <td>HOMBRE</td>\n",
       "    </tr>\n",
       "  </tbody>\n",
       "</table>\n",
       "<p>5 rows × 33 columns</p>\n",
       "</div>"
      ],
      "text/plain": [
       "         RUT_CLIENTE  CODIGO_PRODUCTO  embedding_0  embedding_1  embedding_2  \\\n",
       "2970175     12531168           296818     1.062703    -0.470706     2.053578   \n",
       "2970176     10033077           298057    -0.720849    -0.204217    -0.282643   \n",
       "2970177      6013860           541879     1.041929    -0.719336    -0.774628   \n",
       "2970178      9106274           268493     0.854340     0.955198    -0.075103   \n",
       "2970179     16539815           276819     0.116905    -0.045271    -0.423868   \n",
       "\n",
       "         embedding_3  embedding_4  embedding_5  embedding_6  embedding_7  ...  \\\n",
       "2970175    -1.265371     0.567018    -0.538847     0.466072    -0.079015  ...   \n",
       "2970176     0.026229    -0.529279    -1.021251    -2.269705    -0.025283  ...   \n",
       "2970177     0.941536     0.267588     0.346594    -0.983223    -0.640467  ...   \n",
       "2970178     0.902365    -0.622136     1.165381    -3.114947    -0.512445  ...   \n",
       "2970179    -1.088375     0.883589    -0.760762     2.013361     0.627242  ...   \n",
       "\n",
       "         PROBABILIDAD  PREDICT    CODIGO            UNIDAD_COMERCIAL  \\\n",
       "2970175          0.98        1  296818.0  BELLEZA Y CUIDADO PERSONAL   \n",
       "2970176          1.00        1  298057.0  BELLEZA Y CUIDADO PERSONAL   \n",
       "2970177          0.92        1  541879.0                       FARMA   \n",
       "2970178          0.72        1  268493.0  BELLEZA Y CUIDADO PERSONAL   \n",
       "2970179          0.98        1  276819.0  BELLEZA Y CUIDADO PERSONAL   \n",
       "\n",
       "                  MACROCATEGORIA        CATEGORIA_NIVEL_1  \\\n",
       "2970175           CUIDADO FACIAL  ESTUCHES CUIDADO FACIAL   \n",
       "2970176            HIGIENE BUCAL        CEPILLOS DENTALES   \n",
       "2970177                ANALGESIA           DOLOR Y FIEBRE   \n",
       "2970178  DESODORANTES CORPORALES                DEO MUJER   \n",
       "2970179  DESODORANTES CORPORALES               DEO HOMBRE   \n",
       "\n",
       "            CATEGORIA_NIVEL_2_FCV  \\\n",
       "2970175   CUIDADO FACIAL ESTUCHES   \n",
       "2970176               INTERDENTAL   \n",
       "2970177  DOLOR Y FIEBRE ANALGESIA   \n",
       "2970178           DEO MUJER BARRA   \n",
       "2970179          DEO HOMBRE SPRAY   \n",
       "\n",
       "                                          DESCRIPTOR_LARGO             MARCA  \\\n",
       "2970175  PETRIZZIO HIDRA SHOCK CREMA HIDRATANTE INT.DIA...         PETRIZZIO   \n",
       "2970176  PHB CEPILLO INTERDENTAL FLEXI EXTRAFINO DOBLE ...               PHB   \n",
       "2970177                   ALIVIDOL COMPRIMIDOS 1 GRAMO X20          ALIVIDOL   \n",
       "2970178  LADY SPEED STICK PRO 5 EN1 DESODORANTE BARRA 4...  LADY SPEED STICK   \n",
       "2970179        OLD SPICE DESODORANTE BODY SPRAY LENA 150ML         OLD SPICE   \n",
       "\n",
       "                    GENERO  \n",
       "2970175  SIN CLASIFICACION  \n",
       "2970176          NO APLICA  \n",
       "2970177  SIN CLASIFICACION  \n",
       "2970178              MUJER  \n",
       "2970179             HOMBRE  \n",
       "\n",
       "[5 rows x 33 columns]"
      ]
     },
     "execution_count": 48,
     "metadata": {},
     "output_type": "execute_result"
    }
   ],
   "source": [
    "df_test_oot_final[(df_test_oot_final.TARGET==1) & (df_test_oot_final.PREDICT==1)][5:10]"
   ]
  },
  {
   "cell_type": "code",
   "execution_count": 15,
   "metadata": {},
   "outputs": [
    {
     "name": "stdout",
     "output_type": "stream",
     "text": [
      "tamaño dataset inicial: 25320225\n"
     ]
    }
   ],
   "source": [
    "with open('G:\\\\Mi unidad\\\\SOCOFAR\\\\0.-Recomendadores-Oficial\\\\Archivos\\\\Recomendaciones_PDC_NOV23_ENE24\\\\SR_BASE_FINAL_PROD_NOV23_ENE24.csv', 'rb') as file:\n",
    "    content = file.read().replace(b'\\x00', b'')\n",
    "\n",
    "content_str = StringIO(content.decode('latin'))\n",
    "df_test_oot = pd.read_csv(content_str, sep=';', encoding='latin')#,nrows=10000000)\n",
    "df_test_oot['RUT_CLIENTE']=((df_test_oot['SK']+1599)/2).astype(int)\n",
    "print('tamaño dataset inicial: '+str(len(df_test_oot)))"
   ]
  },
  {
   "cell_type": "code",
   "execution_count": 52,
   "metadata": {},
   "outputs": [
    {
     "data": {
      "text/html": [
       "<div>\n",
       "<style scoped>\n",
       "    .dataframe tbody tr th:only-of-type {\n",
       "        vertical-align: middle;\n",
       "    }\n",
       "\n",
       "    .dataframe tbody tr th {\n",
       "        vertical-align: top;\n",
       "    }\n",
       "\n",
       "    .dataframe thead th {\n",
       "        text-align: right;\n",
       "    }\n",
       "</style>\n",
       "<table border=\"1\" class=\"dataframe\">\n",
       "  <thead>\n",
       "    <tr style=\"text-align: right;\">\n",
       "      <th></th>\n",
       "      <th>SK</th>\n",
       "      <th>CODIGO_PRODUCTO</th>\n",
       "      <th>SUM_NRO_PROD</th>\n",
       "      <th>RUT_CLIENTE</th>\n",
       "      <th>CODIGO</th>\n",
       "      <th>UNIDAD_COMERCIAL</th>\n",
       "      <th>MACROCATEGORIA</th>\n",
       "      <th>CATEGORIA_NIVEL_1</th>\n",
       "      <th>CATEGORIA_NIVEL_2_FCV</th>\n",
       "      <th>DESCRIPTOR_LARGO</th>\n",
       "      <th>MARCA</th>\n",
       "      <th>GENERO</th>\n",
       "    </tr>\n",
       "  </thead>\n",
       "  <tbody>\n",
       "    <tr>\n",
       "      <th>22206426</th>\n",
       "      <td>18210949</td>\n",
       "      <td>541174</td>\n",
       "      <td>1</td>\n",
       "      <td>9106274</td>\n",
       "      <td>541174.0</td>\n",
       "      <td>BELLEZA Y CUIDADO PERSONAL</td>\n",
       "      <td>CUIDADO FACIAL</td>\n",
       "      <td>HIDRATACION FACIAL</td>\n",
       "      <td>CUIDADO FACIAL HIDRATACION</td>\n",
       "      <td>LOREAL REVITALIFT RETINOL SERUM NOCHE ARRUGAS ...</td>\n",
       "      <td>LOREAL</td>\n",
       "      <td>NO APLICA</td>\n",
       "    </tr>\n",
       "    <tr>\n",
       "      <th>28117856</th>\n",
       "      <td>18210949</td>\n",
       "      <td>297248</td>\n",
       "      <td>1</td>\n",
       "      <td>9106274</td>\n",
       "      <td>297248.0</td>\n",
       "      <td>BELLEZA Y CUIDADO PERSONAL</td>\n",
       "      <td>HIGIENE BUCAL</td>\n",
       "      <td>ENJUAGUE BUCAL</td>\n",
       "      <td>ENJUAGUE BUCAL ADULTO</td>\n",
       "      <td>COLGATE TOTAL12 ENJUAGUE BUCAL ANTIBACTERIAL C...</td>\n",
       "      <td>COLGATE</td>\n",
       "      <td>SIN CLASIFICACION</td>\n",
       "    </tr>\n",
       "    <tr>\n",
       "      <th>51487230</th>\n",
       "      <td>18210949</td>\n",
       "      <td>295624</td>\n",
       "      <td>1</td>\n",
       "      <td>9106274</td>\n",
       "      <td>295624.0</td>\n",
       "      <td>FARMA</td>\n",
       "      <td>ANALGESIA</td>\n",
       "      <td>ANTIINFLAMATORIOS</td>\n",
       "      <td>ANTIINFLAMATORIOS SISTEMICOS</td>\n",
       "      <td>COXIRA CAPSULAS 200MG.10</td>\n",
       "      <td>COXIRA</td>\n",
       "      <td>SIN CLASIFICACION</td>\n",
       "    </tr>\n",
       "    <tr>\n",
       "      <th>68243744</th>\n",
       "      <td>18210949</td>\n",
       "      <td>275395</td>\n",
       "      <td>1</td>\n",
       "      <td>9106274</td>\n",
       "      <td>275395.0</td>\n",
       "      <td>FARMA</td>\n",
       "      <td>GASTRICAS</td>\n",
       "      <td>ANTIEMETICOS</td>\n",
       "      <td>ANTIEMETICOS OTC</td>\n",
       "      <td>BETINA COMPRIMIDOS 24MG. 30</td>\n",
       "      <td>BETINA</td>\n",
       "      <td>SIN CLASIFICACION</td>\n",
       "    </tr>\n",
       "    <tr>\n",
       "      <th>74769000</th>\n",
       "      <td>18210949</td>\n",
       "      <td>266503</td>\n",
       "      <td>1</td>\n",
       "      <td>9106274</td>\n",
       "      <td>266503.0</td>\n",
       "      <td>FARMA</td>\n",
       "      <td>CARDIOVASCULAR</td>\n",
       "      <td>HIPOTENSORES</td>\n",
       "      <td>HIPOTENSORES CARDIOVASCULAR</td>\n",
       "      <td>BISOPRIL COMPRIMIDOS RECUBIERTOS 2,5 MILIGRAMO...</td>\n",
       "      <td>BISOPRIL</td>\n",
       "      <td>SIN CLASIFICACION</td>\n",
       "    </tr>\n",
       "    <tr>\n",
       "      <th>84022071</th>\n",
       "      <td>18210949</td>\n",
       "      <td>525714</td>\n",
       "      <td>1</td>\n",
       "      <td>9106274</td>\n",
       "      <td>525714.0</td>\n",
       "      <td>BIENESTAR Y CONSUMO</td>\n",
       "      <td>VITAMINAS Y MINERALES</td>\n",
       "      <td>SUPLEMENTOS</td>\n",
       "      <td>SISTEMA DIGESTIVO BIENESTAR</td>\n",
       "      <td>PURE SCIENCE PROBIOTIC DAILY CAPSULAS X60</td>\n",
       "      <td>PURE SCIENCE</td>\n",
       "      <td>SIN CLASIFICACION</td>\n",
       "    </tr>\n",
       "  </tbody>\n",
       "</table>\n",
       "</div>"
      ],
      "text/plain": [
       "                SK  CODIGO_PRODUCTO  SUM_NRO_PROD  RUT_CLIENTE    CODIGO  \\\n",
       "22206426  18210949           541174             1      9106274  541174.0   \n",
       "28117856  18210949           297248             1      9106274  297248.0   \n",
       "51487230  18210949           295624             1      9106274  295624.0   \n",
       "68243744  18210949           275395             1      9106274  275395.0   \n",
       "74769000  18210949           266503             1      9106274  266503.0   \n",
       "84022071  18210949           525714             1      9106274  525714.0   \n",
       "\n",
       "                    UNIDAD_COMERCIAL         MACROCATEGORIA  \\\n",
       "22206426  BELLEZA Y CUIDADO PERSONAL         CUIDADO FACIAL   \n",
       "28117856  BELLEZA Y CUIDADO PERSONAL          HIGIENE BUCAL   \n",
       "51487230                       FARMA              ANALGESIA   \n",
       "68243744                       FARMA              GASTRICAS   \n",
       "74769000                       FARMA         CARDIOVASCULAR   \n",
       "84022071         BIENESTAR Y CONSUMO  VITAMINAS Y MINERALES   \n",
       "\n",
       "           CATEGORIA_NIVEL_1         CATEGORIA_NIVEL_2_FCV  \\\n",
       "22206426  HIDRATACION FACIAL    CUIDADO FACIAL HIDRATACION   \n",
       "28117856      ENJUAGUE BUCAL         ENJUAGUE BUCAL ADULTO   \n",
       "51487230   ANTIINFLAMATORIOS  ANTIINFLAMATORIOS SISTEMICOS   \n",
       "68243744        ANTIEMETICOS              ANTIEMETICOS OTC   \n",
       "74769000        HIPOTENSORES   HIPOTENSORES CARDIOVASCULAR   \n",
       "84022071         SUPLEMENTOS   SISTEMA DIGESTIVO BIENESTAR   \n",
       "\n",
       "                                           DESCRIPTOR_LARGO         MARCA  \\\n",
       "22206426  LOREAL REVITALIFT RETINOL SERUM NOCHE ARRUGAS ...        LOREAL   \n",
       "28117856  COLGATE TOTAL12 ENJUAGUE BUCAL ANTIBACTERIAL C...       COLGATE   \n",
       "51487230                           COXIRA CAPSULAS 200MG.10        COXIRA   \n",
       "68243744                        BETINA COMPRIMIDOS 24MG. 30        BETINA   \n",
       "74769000  BISOPRIL COMPRIMIDOS RECUBIERTOS 2,5 MILIGRAMO...      BISOPRIL   \n",
       "84022071          PURE SCIENCE PROBIOTIC DAILY CAPSULAS X60  PURE SCIENCE   \n",
       "\n",
       "                     GENERO  \n",
       "22206426          NO APLICA  \n",
       "28117856  SIN CLASIFICACION  \n",
       "51487230  SIN CLASIFICACION  \n",
       "68243744  SIN CLASIFICACION  \n",
       "74769000  SIN CLASIFICACION  \n",
       "84022071  SIN CLASIFICACION  "
      ]
     },
     "execution_count": 52,
     "metadata": {},
     "output_type": "execute_result"
    }
   ],
   "source": [
    "df[(df.RUT_CLIENTE==9106274)]"
   ]
  },
  {
   "cell_type": "code",
   "execution_count": 53,
   "metadata": {},
   "outputs": [
    {
     "data": {
      "text/html": [
       "<div>\n",
       "<style scoped>\n",
       "    .dataframe tbody tr th:only-of-type {\n",
       "        vertical-align: middle;\n",
       "    }\n",
       "\n",
       "    .dataframe tbody tr th {\n",
       "        vertical-align: top;\n",
       "    }\n",
       "\n",
       "    .dataframe thead th {\n",
       "        text-align: right;\n",
       "    }\n",
       "</style>\n",
       "<table border=\"1\" class=\"dataframe\">\n",
       "  <thead>\n",
       "    <tr style=\"text-align: right;\">\n",
       "      <th></th>\n",
       "      <th>SK</th>\n",
       "      <th>CODIGO_PRODUCTO</th>\n",
       "      <th>SUM_NRO_PROD</th>\n",
       "      <th>RUT_CLIENTE</th>\n",
       "      <th>CODIGO</th>\n",
       "      <th>UNIDAD_COMERCIAL</th>\n",
       "      <th>MACROCATEGORIA</th>\n",
       "      <th>CATEGORIA_NIVEL_1</th>\n",
       "      <th>CATEGORIA_NIVEL_2_FCV</th>\n",
       "      <th>DESCRIPTOR_LARGO</th>\n",
       "      <th>MARCA</th>\n",
       "      <th>GENERO</th>\n",
       "    </tr>\n",
       "  </thead>\n",
       "  <tbody>\n",
       "    <tr>\n",
       "      <th>36</th>\n",
       "      <td>18210949</td>\n",
       "      <td>268493</td>\n",
       "      <td>2</td>\n",
       "      <td>9106274</td>\n",
       "      <td>268493.0</td>\n",
       "      <td>BELLEZA Y CUIDADO PERSONAL</td>\n",
       "      <td>DESODORANTES CORPORALES</td>\n",
       "      <td>DEO MUJER</td>\n",
       "      <td>DEO MUJER BARRA</td>\n",
       "      <td>LADY SPEED STICK PRO 5 EN1 DESODORANTE BARRA 4...</td>\n",
       "      <td>LADY SPEED STICK</td>\n",
       "      <td>MUJER</td>\n",
       "    </tr>\n",
       "    <tr>\n",
       "      <th>3909025</th>\n",
       "      <td>18210949</td>\n",
       "      <td>277416</td>\n",
       "      <td>1</td>\n",
       "      <td>9106274</td>\n",
       "      <td>277416.0</td>\n",
       "      <td>BIENESTAR Y CONSUMO</td>\n",
       "      <td>BEBIDAS Y AGUAS</td>\n",
       "      <td>BEBIDAS FUNCIONALES</td>\n",
       "      <td>BEBIDAS FUNCIONALES BIENESTAR</td>\n",
       "      <td>OKF ALOE DRINK VERA BEBIDA DE ALOE VERA SIN AZ...</td>\n",
       "      <td>OKF</td>\n",
       "      <td>SIN CLASIFICACION</td>\n",
       "    </tr>\n",
       "    <tr>\n",
       "      <th>6021784</th>\n",
       "      <td>18210949</td>\n",
       "      <td>544133</td>\n",
       "      <td>1</td>\n",
       "      <td>9106274</td>\n",
       "      <td>544133.0</td>\n",
       "      <td>BELLEZA Y CUIDADO PERSONAL</td>\n",
       "      <td>HIGIENE BUCAL</td>\n",
       "      <td>PASTAS DENTALES</td>\n",
       "      <td>PASTAS DENTALES ADULTO</td>\n",
       "      <td>SENSODYNE PASTA DENTAL PROTECCION COMPLETA CRE...</td>\n",
       "      <td>SENSODYNE</td>\n",
       "      <td>NO APLICA</td>\n",
       "    </tr>\n",
       "    <tr>\n",
       "      <th>9389716</th>\n",
       "      <td>18210949</td>\n",
       "      <td>193115</td>\n",
       "      <td>1</td>\n",
       "      <td>9106274</td>\n",
       "      <td>193115.0</td>\n",
       "      <td>FARMA</td>\n",
       "      <td>SISTEMA NERVIOSO</td>\n",
       "      <td>HIPNOTICOS</td>\n",
       "      <td>HIPNOTICOS SIST NERVIOSO</td>\n",
       "      <td>ZONIX COMPRIMIDOS RECUBIERTOS 7,5 MILIGRAMOS 30</td>\n",
       "      <td>ZONIX</td>\n",
       "      <td>SIN CLASIFICACION</td>\n",
       "    </tr>\n",
       "    <tr>\n",
       "      <th>10483252</th>\n",
       "      <td>18210949</td>\n",
       "      <td>286986</td>\n",
       "      <td>1</td>\n",
       "      <td>9106274</td>\n",
       "      <td>286986.0</td>\n",
       "      <td>FARMA</td>\n",
       "      <td>ANTIINFECCIOSOS</td>\n",
       "      <td>ANTISEPTICOS ANTIINFECCIOSOS</td>\n",
       "      <td>ANTISEPTICO DERMICO</td>\n",
       "      <td>MUPAX CREMA TOPICA 2% 15GR</td>\n",
       "      <td>MUPAX</td>\n",
       "      <td>SIN CLASIFICACION</td>\n",
       "    </tr>\n",
       "    <tr>\n",
       "      <th>14206973</th>\n",
       "      <td>18210949</td>\n",
       "      <td>291803</td>\n",
       "      <td>1</td>\n",
       "      <td>9106274</td>\n",
       "      <td>291803.0</td>\n",
       "      <td>FARMA</td>\n",
       "      <td>ALERGIAS</td>\n",
       "      <td>ANTIPRURIGINOSOS ALERGIAS</td>\n",
       "      <td>ANTIHISTAMINICO</td>\n",
       "      <td>LEVOCETIRIZINA BIOEQUIVALENTE COMPRIMIDOS RECU...</td>\n",
       "      <td>LEVOCETIRIZINA</td>\n",
       "      <td>SIN CLASIFICACION</td>\n",
       "    </tr>\n",
       "    <tr>\n",
       "      <th>16727838</th>\n",
       "      <td>18210949</td>\n",
       "      <td>270079</td>\n",
       "      <td>3</td>\n",
       "      <td>9106274</td>\n",
       "      <td>270079.0</td>\n",
       "      <td>FARMA</td>\n",
       "      <td>CARDIOVASCULAR</td>\n",
       "      <td>DIURETICOS</td>\n",
       "      <td>DIURETICOS CARDIOVASCULAR</td>\n",
       "      <td>FUROSEMIDA BIOEQUIVALENTE COMPRIMIDOS 40 MG.12</td>\n",
       "      <td>FUROSEMIDA</td>\n",
       "      <td>SIN CLASIFICACION</td>\n",
       "    </tr>\n",
       "    <tr>\n",
       "      <th>21038457</th>\n",
       "      <td>18210949</td>\n",
       "      <td>87031</td>\n",
       "      <td>2</td>\n",
       "      <td>9106274</td>\n",
       "      <td>87031.0</td>\n",
       "      <td>FARMA</td>\n",
       "      <td>CARDIOVASCULAR</td>\n",
       "      <td>VASODILATADORES</td>\n",
       "      <td>VASODIL CEREBRAL Y PERIFERICO</td>\n",
       "      <td>FLUXUS COMPRIMIDOS 10 MILIGRAMOS 30</td>\n",
       "      <td>FLUXUS</td>\n",
       "      <td>SIN CLASIFICACION</td>\n",
       "    </tr>\n",
       "    <tr>\n",
       "      <th>22630624</th>\n",
       "      <td>18210949</td>\n",
       "      <td>544147</td>\n",
       "      <td>1</td>\n",
       "      <td>9106274</td>\n",
       "      <td>544147.0</td>\n",
       "      <td>BELLEZA Y CUIDADO PERSONAL</td>\n",
       "      <td>HIGIENE BUCAL</td>\n",
       "      <td>CEPILLOS DENTALES</td>\n",
       "      <td>CEPILLOS DENTALES ADULTO</td>\n",
       "      <td>COLGATE CEPILLO DENTAL RECYCLEAN CERDAS A BASE...</td>\n",
       "      <td>COLGATE</td>\n",
       "      <td>SIN CLASIFICACION</td>\n",
       "    </tr>\n",
       "  </tbody>\n",
       "</table>\n",
       "</div>"
      ],
      "text/plain": [
       "                SK  CODIGO_PRODUCTO  SUM_NRO_PROD  RUT_CLIENTE    CODIGO  \\\n",
       "36        18210949           268493             2      9106274  268493.0   \n",
       "3909025   18210949           277416             1      9106274  277416.0   \n",
       "6021784   18210949           544133             1      9106274  544133.0   \n",
       "9389716   18210949           193115             1      9106274  193115.0   \n",
       "10483252  18210949           286986             1      9106274  286986.0   \n",
       "14206973  18210949           291803             1      9106274  291803.0   \n",
       "16727838  18210949           270079             3      9106274  270079.0   \n",
       "21038457  18210949            87031             2      9106274   87031.0   \n",
       "22630624  18210949           544147             1      9106274  544147.0   \n",
       "\n",
       "                    UNIDAD_COMERCIAL           MACROCATEGORIA  \\\n",
       "36        BELLEZA Y CUIDADO PERSONAL  DESODORANTES CORPORALES   \n",
       "3909025          BIENESTAR Y CONSUMO          BEBIDAS Y AGUAS   \n",
       "6021784   BELLEZA Y CUIDADO PERSONAL            HIGIENE BUCAL   \n",
       "9389716                        FARMA         SISTEMA NERVIOSO   \n",
       "10483252                       FARMA          ANTIINFECCIOSOS   \n",
       "14206973                       FARMA                 ALERGIAS   \n",
       "16727838                       FARMA           CARDIOVASCULAR   \n",
       "21038457                       FARMA           CARDIOVASCULAR   \n",
       "22630624  BELLEZA Y CUIDADO PERSONAL            HIGIENE BUCAL   \n",
       "\n",
       "                     CATEGORIA_NIVEL_1          CATEGORIA_NIVEL_2_FCV  \\\n",
       "36                           DEO MUJER                DEO MUJER BARRA   \n",
       "3909025            BEBIDAS FUNCIONALES  BEBIDAS FUNCIONALES BIENESTAR   \n",
       "6021784                PASTAS DENTALES         PASTAS DENTALES ADULTO   \n",
       "9389716                     HIPNOTICOS       HIPNOTICOS SIST NERVIOSO   \n",
       "10483252  ANTISEPTICOS ANTIINFECCIOSOS            ANTISEPTICO DERMICO   \n",
       "14206973     ANTIPRURIGINOSOS ALERGIAS                ANTIHISTAMINICO   \n",
       "16727838                    DIURETICOS      DIURETICOS CARDIOVASCULAR   \n",
       "21038457               VASODILATADORES  VASODIL CEREBRAL Y PERIFERICO   \n",
       "22630624             CEPILLOS DENTALES       CEPILLOS DENTALES ADULTO   \n",
       "\n",
       "                                           DESCRIPTOR_LARGO             MARCA  \\\n",
       "36        LADY SPEED STICK PRO 5 EN1 DESODORANTE BARRA 4...  LADY SPEED STICK   \n",
       "3909025   OKF ALOE DRINK VERA BEBIDA DE ALOE VERA SIN AZ...               OKF   \n",
       "6021784   SENSODYNE PASTA DENTAL PROTECCION COMPLETA CRE...         SENSODYNE   \n",
       "9389716     ZONIX COMPRIMIDOS RECUBIERTOS 7,5 MILIGRAMOS 30             ZONIX   \n",
       "10483252                         MUPAX CREMA TOPICA 2% 15GR             MUPAX   \n",
       "14206973  LEVOCETIRIZINA BIOEQUIVALENTE COMPRIMIDOS RECU...    LEVOCETIRIZINA   \n",
       "16727838     FUROSEMIDA BIOEQUIVALENTE COMPRIMIDOS 40 MG.12        FUROSEMIDA   \n",
       "21038457                FLUXUS COMPRIMIDOS 10 MILIGRAMOS 30            FLUXUS   \n",
       "22630624  COLGATE CEPILLO DENTAL RECYCLEAN CERDAS A BASE...           COLGATE   \n",
       "\n",
       "                     GENERO  \n",
       "36                    MUJER  \n",
       "3909025   SIN CLASIFICACION  \n",
       "6021784           NO APLICA  \n",
       "9389716   SIN CLASIFICACION  \n",
       "10483252  SIN CLASIFICACION  \n",
       "14206973  SIN CLASIFICACION  \n",
       "16727838  SIN CLASIFICACION  \n",
       "21038457  SIN CLASIFICACION  \n",
       "22630624  SIN CLASIFICACION  "
      ]
     },
     "execution_count": 53,
     "metadata": {},
     "output_type": "execute_result"
    }
   ],
   "source": [
    "df_test_oot[(df_test_oot.RUT_CLIENTE==9106274)]"
   ]
  },
  {
   "cell_type": "code",
   "execution_count": 54,
   "metadata": {},
   "outputs": [
    {
     "data": {
      "text/html": [
       "<div>\n",
       "<style scoped>\n",
       "    .dataframe tbody tr th:only-of-type {\n",
       "        vertical-align: middle;\n",
       "    }\n",
       "\n",
       "    .dataframe tbody tr th {\n",
       "        vertical-align: top;\n",
       "    }\n",
       "\n",
       "    .dataframe thead th {\n",
       "        text-align: right;\n",
       "    }\n",
       "</style>\n",
       "<table border=\"1\" class=\"dataframe\">\n",
       "  <thead>\n",
       "    <tr style=\"text-align: right;\">\n",
       "      <th></th>\n",
       "      <th>RUT_CLIENTE</th>\n",
       "      <th>CODIGO_PRODUCTO</th>\n",
       "      <th>embedding_0</th>\n",
       "      <th>embedding_1</th>\n",
       "      <th>embedding_2</th>\n",
       "      <th>embedding_3</th>\n",
       "      <th>embedding_4</th>\n",
       "      <th>embedding_5</th>\n",
       "      <th>embedding_6</th>\n",
       "      <th>embedding_7</th>\n",
       "      <th>...</th>\n",
       "      <th>PROBABILIDAD</th>\n",
       "      <th>PREDICT</th>\n",
       "      <th>CODIGO</th>\n",
       "      <th>UNIDAD_COMERCIAL</th>\n",
       "      <th>MACROCATEGORIA</th>\n",
       "      <th>CATEGORIA_NIVEL_1</th>\n",
       "      <th>CATEGORIA_NIVEL_2_FCV</th>\n",
       "      <th>DESCRIPTOR_LARGO</th>\n",
       "      <th>MARCA</th>\n",
       "      <th>GENERO</th>\n",
       "    </tr>\n",
       "  </thead>\n",
       "  <tbody>\n",
       "    <tr>\n",
       "      <th>11</th>\n",
       "      <td>9106274</td>\n",
       "      <td>399479</td>\n",
       "      <td>0.85434</td>\n",
       "      <td>0.955198</td>\n",
       "      <td>-0.075103</td>\n",
       "      <td>0.902365</td>\n",
       "      <td>-0.622136</td>\n",
       "      <td>1.165381</td>\n",
       "      <td>-3.114947</td>\n",
       "      <td>-0.512445</td>\n",
       "      <td>...</td>\n",
       "      <td>0.00</td>\n",
       "      <td>0</td>\n",
       "      <td>399479.0</td>\n",
       "      <td>BELLEZA Y CUIDADO PERSONAL</td>\n",
       "      <td>CUIDADO FACIAL DERMO</td>\n",
       "      <td>HIDRATACION FACIAL DERMO</td>\n",
       "      <td>HIDRATACION FACIAL DERMO PIEL SECA</td>\n",
       "      <td>BIOTHERM AQUASOURCE CREMA RICH HIDRATACION CON...</td>\n",
       "      <td>BIOTHERM</td>\n",
       "      <td>MUJER</td>\n",
       "    </tr>\n",
       "    <tr>\n",
       "      <th>2970178</th>\n",
       "      <td>9106274</td>\n",
       "      <td>268493</td>\n",
       "      <td>0.85434</td>\n",
       "      <td>0.955198</td>\n",
       "      <td>-0.075103</td>\n",
       "      <td>0.902365</td>\n",
       "      <td>-0.622136</td>\n",
       "      <td>1.165381</td>\n",
       "      <td>-3.114947</td>\n",
       "      <td>-0.512445</td>\n",
       "      <td>...</td>\n",
       "      <td>0.72</td>\n",
       "      <td>1</td>\n",
       "      <td>268493.0</td>\n",
       "      <td>BELLEZA Y CUIDADO PERSONAL</td>\n",
       "      <td>DESODORANTES CORPORALES</td>\n",
       "      <td>DEO MUJER</td>\n",
       "      <td>DEO MUJER BARRA</td>\n",
       "      <td>LADY SPEED STICK PRO 5 EN1 DESODORANTE BARRA 4...</td>\n",
       "      <td>LADY SPEED STICK</td>\n",
       "      <td>MUJER</td>\n",
       "    </tr>\n",
       "    <tr>\n",
       "      <th>5272324</th>\n",
       "      <td>9106274</td>\n",
       "      <td>544133</td>\n",
       "      <td>0.85434</td>\n",
       "      <td>0.955198</td>\n",
       "      <td>-0.075103</td>\n",
       "      <td>0.902365</td>\n",
       "      <td>-0.622136</td>\n",
       "      <td>1.165381</td>\n",
       "      <td>-3.114947</td>\n",
       "      <td>-0.512445</td>\n",
       "      <td>...</td>\n",
       "      <td>0.96</td>\n",
       "      <td>1</td>\n",
       "      <td>544133.0</td>\n",
       "      <td>BELLEZA Y CUIDADO PERSONAL</td>\n",
       "      <td>HIGIENE BUCAL</td>\n",
       "      <td>PASTAS DENTALES</td>\n",
       "      <td>PASTAS DENTALES ADULTO</td>\n",
       "      <td>SENSODYNE PASTA DENTAL PROTECCION COMPLETA CRE...</td>\n",
       "      <td>SENSODYNE</td>\n",
       "      <td>NO APLICA</td>\n",
       "    </tr>\n",
       "    <tr>\n",
       "      <th>8392309</th>\n",
       "      <td>9106274</td>\n",
       "      <td>291803</td>\n",
       "      <td>0.85434</td>\n",
       "      <td>0.955198</td>\n",
       "      <td>-0.075103</td>\n",
       "      <td>0.902365</td>\n",
       "      <td>-0.622136</td>\n",
       "      <td>1.165381</td>\n",
       "      <td>-3.114947</td>\n",
       "      <td>-0.512445</td>\n",
       "      <td>...</td>\n",
       "      <td>0.96</td>\n",
       "      <td>1</td>\n",
       "      <td>291803.0</td>\n",
       "      <td>FARMA</td>\n",
       "      <td>ALERGIAS</td>\n",
       "      <td>ANTIPRURIGINOSOS ALERGIAS</td>\n",
       "      <td>ANTIHISTAMINICO</td>\n",
       "      <td>LEVOCETIRIZINA BIOEQUIVALENTE COMPRIMIDOS RECU...</td>\n",
       "      <td>LEVOCETIRIZINA</td>\n",
       "      <td>SIN CLASIFICACION</td>\n",
       "    </tr>\n",
       "    <tr>\n",
       "      <th>11617899</th>\n",
       "      <td>9106274</td>\n",
       "      <td>544147</td>\n",
       "      <td>0.85434</td>\n",
       "      <td>0.955198</td>\n",
       "      <td>-0.075103</td>\n",
       "      <td>0.902365</td>\n",
       "      <td>-0.622136</td>\n",
       "      <td>1.165381</td>\n",
       "      <td>-3.114947</td>\n",
       "      <td>-0.512445</td>\n",
       "      <td>...</td>\n",
       "      <td>0.36</td>\n",
       "      <td>0</td>\n",
       "      <td>544147.0</td>\n",
       "      <td>BELLEZA Y CUIDADO PERSONAL</td>\n",
       "      <td>HIGIENE BUCAL</td>\n",
       "      <td>CEPILLOS DENTALES</td>\n",
       "      <td>CEPILLOS DENTALES ADULTO</td>\n",
       "      <td>COLGATE CEPILLO DENTAL RECYCLEAN CERDAS A BASE...</td>\n",
       "      <td>COLGATE</td>\n",
       "      <td>SIN CLASIFICACION</td>\n",
       "    </tr>\n",
       "  </tbody>\n",
       "</table>\n",
       "<p>5 rows × 33 columns</p>\n",
       "</div>"
      ],
      "text/plain": [
       "          RUT_CLIENTE  CODIGO_PRODUCTO  embedding_0  embedding_1  embedding_2  \\\n",
       "11            9106274           399479      0.85434     0.955198    -0.075103   \n",
       "2970178       9106274           268493      0.85434     0.955198    -0.075103   \n",
       "5272324       9106274           544133      0.85434     0.955198    -0.075103   \n",
       "8392309       9106274           291803      0.85434     0.955198    -0.075103   \n",
       "11617899      9106274           544147      0.85434     0.955198    -0.075103   \n",
       "\n",
       "          embedding_3  embedding_4  embedding_5  embedding_6  embedding_7  \\\n",
       "11           0.902365    -0.622136     1.165381    -3.114947    -0.512445   \n",
       "2970178      0.902365    -0.622136     1.165381    -3.114947    -0.512445   \n",
       "5272324      0.902365    -0.622136     1.165381    -3.114947    -0.512445   \n",
       "8392309      0.902365    -0.622136     1.165381    -3.114947    -0.512445   \n",
       "11617899     0.902365    -0.622136     1.165381    -3.114947    -0.512445   \n",
       "\n",
       "          ...  PROBABILIDAD  PREDICT    CODIGO            UNIDAD_COMERCIAL  \\\n",
       "11        ...          0.00        0  399479.0  BELLEZA Y CUIDADO PERSONAL   \n",
       "2970178   ...          0.72        1  268493.0  BELLEZA Y CUIDADO PERSONAL   \n",
       "5272324   ...          0.96        1  544133.0  BELLEZA Y CUIDADO PERSONAL   \n",
       "8392309   ...          0.96        1  291803.0                       FARMA   \n",
       "11617899  ...          0.36        0  544147.0  BELLEZA Y CUIDADO PERSONAL   \n",
       "\n",
       "                   MACROCATEGORIA          CATEGORIA_NIVEL_1  \\\n",
       "11           CUIDADO FACIAL DERMO   HIDRATACION FACIAL DERMO   \n",
       "2970178   DESODORANTES CORPORALES                  DEO MUJER   \n",
       "5272324             HIGIENE BUCAL            PASTAS DENTALES   \n",
       "8392309                  ALERGIAS  ANTIPRURIGINOSOS ALERGIAS   \n",
       "11617899            HIGIENE BUCAL          CEPILLOS DENTALES   \n",
       "\n",
       "                       CATEGORIA_NIVEL_2_FCV  \\\n",
       "11        HIDRATACION FACIAL DERMO PIEL SECA   \n",
       "2970178                      DEO MUJER BARRA   \n",
       "5272324               PASTAS DENTALES ADULTO   \n",
       "8392309                      ANTIHISTAMINICO   \n",
       "11617899            CEPILLOS DENTALES ADULTO   \n",
       "\n",
       "                                           DESCRIPTOR_LARGO             MARCA  \\\n",
       "11        BIOTHERM AQUASOURCE CREMA RICH HIDRATACION CON...          BIOTHERM   \n",
       "2970178   LADY SPEED STICK PRO 5 EN1 DESODORANTE BARRA 4...  LADY SPEED STICK   \n",
       "5272324   SENSODYNE PASTA DENTAL PROTECCION COMPLETA CRE...         SENSODYNE   \n",
       "8392309   LEVOCETIRIZINA BIOEQUIVALENTE COMPRIMIDOS RECU...    LEVOCETIRIZINA   \n",
       "11617899  COLGATE CEPILLO DENTAL RECYCLEAN CERDAS A BASE...           COLGATE   \n",
       "\n",
       "                     GENERO  \n",
       "11                    MUJER  \n",
       "2970178               MUJER  \n",
       "5272324           NO APLICA  \n",
       "8392309   SIN CLASIFICACION  \n",
       "11617899  SIN CLASIFICACION  \n",
       "\n",
       "[5 rows x 33 columns]"
      ]
     },
     "execution_count": 54,
     "metadata": {},
     "output_type": "execute_result"
    }
   ],
   "source": [
    "#COMPRAS EN TEST\n",
    "df_test_oot_final[(df_test_oot_final.RUT_CLIENTE==9106274)]"
   ]
  },
  {
   "cell_type": "code",
   "execution_count": 37,
   "metadata": {},
   "outputs": [
    {
     "data": {
      "text/html": [
       "<div>\n",
       "<style scoped>\n",
       "    .dataframe tbody tr th:only-of-type {\n",
       "        vertical-align: middle;\n",
       "    }\n",
       "\n",
       "    .dataframe tbody tr th {\n",
       "        vertical-align: top;\n",
       "    }\n",
       "\n",
       "    .dataframe thead th {\n",
       "        text-align: right;\n",
       "    }\n",
       "</style>\n",
       "<table border=\"1\" class=\"dataframe\">\n",
       "  <thead>\n",
       "    <tr style=\"text-align: right;\">\n",
       "      <th></th>\n",
       "      <th>SK</th>\n",
       "      <th>CODIGO_PRODUCTO</th>\n",
       "      <th>SUM_NRO_PROD</th>\n",
       "      <th>RUT_CLIENTE</th>\n",
       "    </tr>\n",
       "  </thead>\n",
       "  <tbody>\n",
       "  </tbody>\n",
       "</table>\n",
       "</div>"
      ],
      "text/plain": [
       "Empty DataFrame\n",
       "Columns: [SK, CODIGO_PRODUCTO, SUM_NRO_PROD, RUT_CLIENTE]\n",
       "Index: []"
      ]
     },
     "execution_count": 37,
     "metadata": {},
     "output_type": "execute_result"
    }
   ],
   "source": [
    "#COMPRAS DEV\n",
    "df[(df.RUT_CLIENTE==10590691) & (df.CODIGO_PRODUCTO==257913)]"
   ]
  },
  {
   "cell_type": "code",
   "execution_count": null,
   "metadata": {},
   "outputs": [],
   "source": []
  },
  {
   "cell_type": "markdown",
   "metadata": {},
   "source": [
    "## **USO DEL MODELO RECOMENDADOR**\n",
    "\n",
    "- se recibe el cliente y producto buscado\n",
    "- se calcula el embedding del cliente como la ponderacion de items historicos + el nuevo\n",
    "- se calcula la probabilidad de compra para ese embedding en combinatoria con todos los embedding de productos existentes\n",
    "- se seleccionan aquellos \"n\" con probabilidad más alta (sin compra previa)"
   ]
  },
  {
   "cell_type": "code",
   "execution_count": null,
   "metadata": {},
   "outputs": [],
   "source": [
    "#[rut_cliente,producto-1,...,producto-n]\n",
    "vector=[1768451,261034,277430,254222]\n",
    "cliente=vector[0]\n",
    "productos=vector[1:]"
   ]
  },
  {
   "cell_type": "markdown",
   "metadata": {},
   "source": [
    "embedding cliente"
   ]
  },
  {
   "cell_type": "code",
   "execution_count": null,
   "metadata": {},
   "outputs": [],
   "source": [
    "historico=df[df.RUT_CLIENTE==cliente].CODIGO_PRODUCTO.tolist()\n",
    "total=historico+productos"
   ]
  },
  {
   "cell_type": "code",
   "execution_count": null,
   "metadata": {},
   "outputs": [],
   "source": [
    "embeddings = []\n",
    "for product in total:\n",
    "    embeddings.append(model.wv[product])\n",
    "        \n",
    "if embeddings:\n",
    "    client_embedding = np.mean(embeddings, axis=0)"
   ]
  },
  {
   "cell_type": "markdown",
   "metadata": {},
   "source": [
    "para cada producto se concatena embedding cliente y producto"
   ]
  },
  {
   "cell_type": "code",
   "execution_count": null,
   "metadata": {},
   "outputs": [],
   "source": [
    "productos = list(model.wv.index_to_key)  # Obtener todos los productos para los cuales el modelo tiene un embedding\n",
    "embeddings = [model.wv[producto] for producto in productos]  # Lista de embeddings\n",
    "\n",
    "embeddings_df = pd.DataFrame(embeddings)\n",
    "\n",
    "# Agregar columna de productos\n",
    "embeddings_df.insert(0, 'CODIGO_PRODUCTO', productos)"
   ]
  },
  {
   "cell_type": "code",
   "execution_count": null,
   "metadata": {},
   "outputs": [],
   "source": [
    "df_client_embedding = pd.DataFrame([client_embedding], columns=[f'EMBEDDING_{i}' for i in range(len(client_embedding))])\n",
    "df_client_embedding = pd.concat([df_client_embedding]*len(embeddings_df), ignore_index=True)\n",
    "df_client_embedding_final = pd.concat([df_client_embedding, embeddings_df], axis=1)\n",
    "df_x = df_client_embedding_final.drop(columns=['CODIGO_PRODUCTO'])\n",
    "df_productos=pd.DataFrame(df_client_embedding_final.CODIGO_PRODUCTO)"
   ]
  },
  {
   "cell_type": "markdown",
   "metadata": {},
   "source": [
    "predicciones y rankeo"
   ]
  },
  {
   "cell_type": "code",
   "execution_count": null,
   "metadata": {},
   "outputs": [],
   "source": [
    "preds=pd.DataFrame(pipeline_bm.model.predict_proba(df_x)[:,1],columns=['PROBABILIDAD'])"
   ]
  },
  {
   "cell_type": "code",
   "execution_count": null,
   "metadata": {},
   "outputs": [],
   "source": [
    "prod_pred=pd.concat([df_productos,preds],axis=1)\n",
    "prod_pred_final=prod_pred.sort_values(by='PROBABILIDAD',ascending=False).head(5).CODIGO_PRODUCTO.values.tolist()  "
   ]
  },
  {
   "cell_type": "code",
   "execution_count": null,
   "metadata": {},
   "outputs": [
    {
     "data": {
      "text/plain": [
       "[254222, 291144, 528441, 272447, 268668]"
      ]
     },
     "execution_count": 41,
     "metadata": {},
     "output_type": "execute_result"
    }
   ],
   "source": [
    "prod_pred_final"
   ]
  },
  {
   "cell_type": "code",
   "execution_count": null,
   "metadata": {},
   "outputs": [],
   "source": []
  }
 ],
 "metadata": {
  "kernelspec": {
   "display_name": "base",
   "language": "python",
   "name": "python3"
  },
  "language_info": {
   "codemirror_mode": {
    "name": "ipython",
    "version": 3
   },
   "file_extension": ".py",
   "mimetype": "text/x-python",
   "name": "python",
   "nbconvert_exporter": "python",
   "pygments_lexer": "ipython3",
   "version": "3.9.13"
  }
 },
 "nbformat": 4,
 "nbformat_minor": 2
}
