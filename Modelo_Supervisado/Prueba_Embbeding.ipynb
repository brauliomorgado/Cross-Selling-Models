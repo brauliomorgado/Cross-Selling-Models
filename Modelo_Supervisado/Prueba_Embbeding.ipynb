{
 "cells": [
  {
   "cell_type": "code",
   "execution_count": 18,
   "metadata": {},
   "outputs": [],
   "source": [
    "import pandas as pd\n",
    "import numpy as np\n",
    "from gensim.models import Word2Vec\n",
    "\n",
    "import os\n",
    "import pandas as pd\n",
    "import numpy as np\n",
    "import cx_Oracle\n",
    "import statsmodels.api as sm\n",
    "from sklearn.linear_model import LogisticRegression\n",
    "from sklearn.ensemble import RandomForestClassifier\n",
    "from sklearn.model_selection import GridSearchCV\n",
    "import warnings\n",
    "import matplotlib.pyplot as plt\n",
    "from sklearn.metrics import roc_curve, confusion_matrix,accuracy_score, classification_report, plot_roc_curve, plot_precision_recall_curve,roc_auc_score\n",
    "from joblib import dump, load\n",
    "\n",
    "os.chdir('G:/Mi unidad/SOCOFAR/0.-Recomendadores-Oficial/POS-Cross-Selling/Modelo_Supervisado')\n",
    "import pipeline_bm as pipeline\n",
    "#pd.set_option('display.max_row', 1000000)\n",
    "\n",
    "pipeline_bm = pipeline.clase_pipeline()"
   ]
  },
  {
   "cell_type": "code",
   "execution_count": 19,
   "metadata": {},
   "outputs": [],
   "source": [
    "# Open the file in binary mode, remove null bytes, and then decode\n",
    "with open('G:\\\\Mi unidad\\\\SOCOFAR\\\\0.-Recomendadores-Oficial\\\\Archivos\\\\SR_BASE_FINAL_PROD_FEB24.csv', 'rb') as file:\n",
    "    content = file.read().replace(b'\\x00', b'')  # Replace null bytes with nothing\n",
    "\n",
    "# Convert the binary content to a string and use StringIO to mimic a file object for pandas\n",
    "from io import StringIO\n",
    "content_str = StringIO(content.decode('latin'))\n",
    "\n",
    "# Now use pd.read_csv on the cleaned string data\n",
    "df = pd.read_csv(content_str, sep=';', encoding='latin',nrows=10000000)\n",
    "df['RUT_CLIENTE']=((df['SK']+1599)/2).astype(int)"
   ]
  },
  {
   "cell_type": "code",
   "execution_count": 20,
   "metadata": {},
   "outputs": [],
   "source": [
    "#AQUI SE PUEDE REALIZAR UN MUESTREO 50/50 DE TARGETS 1 Y 0"
   ]
  },
  {
   "cell_type": "code",
   "execution_count": 21,
   "metadata": {},
   "outputs": [],
   "source": [
    "# Agrupar los productos comprados por cada 'rut' en una lista\n",
    "sentences = df.groupby('RUT_CLIENTE')['CODIGO_PRODUCTO'].apply(list).tolist()\n",
    "\n",
    "# Entrenar el modelo Word2Vec con las 'oraciones' de productos\n",
    "model = Word2Vec(sentences, vector_size=10, window=5, min_count=1, workers=4)"
   ]
  },
  {
   "cell_type": "code",
   "execution_count": 22,
   "metadata": {},
   "outputs": [],
   "source": [
    "client_embeddings = {}\n",
    "for rut, group in df.groupby('RUT_CLIENTE'):\n",
    "    products = group['CODIGO_PRODUCTO'].tolist()\n",
    "    embeddings = []\n",
    "    for product in products:\n",
    "        embeddings.append(model.wv[product])\n",
    "        \n",
    "    if embeddings:\n",
    "        client_embeddings[rut] = np.mean(embeddings, axis=0)"
   ]
  },
  {
   "cell_type": "code",
   "execution_count": 23,
   "metadata": {},
   "outputs": [],
   "source": [
    "client_embeddings_df = pd.DataFrame.from_dict(client_embeddings, orient='index')\n",
    "client_embeddings_df.reset_index(inplace=True)\n",
    "client_embeddings_df.columns = ['RUT_CLIENTE'] + [f'embedding_{i}' for i in range(model.vector_size)]        "
   ]
  },
  {
   "cell_type": "code",
   "execution_count": 24,
   "metadata": {},
   "outputs": [],
   "source": [
    "# diccionario=pd.read_csv('../diccionario_productos.csv',sep=';',usecols=['CODIGO','UNIDAD_COMERCIAL','MACROCATEGORIA','CATEGORIA_NIVEL_1','CATEGORIA_NIVEL_2_FCV','DESCRIPTOR_LARGO','MARCA'])\n",
    "\n",
    "# excl_otros = [str(elemento) for elemento in list(diccionario[diccionario.DESCRIPTOR_LARGO.isin(['DESPACHO','DESP.A','RETIRO DE RECETA','PROMOCION DTE','HORA VACUNACION','INSUMOS BOLSAS','SIN DESCRIPTOR','AJUSTE POR REDONDEO'])]['CODIGO'])] +\\\n",
    "#                           [str(elemento) for elemento in list(diccionario[diccionario.DESCRIPTOR_LARGO.str.contains('BOLSA PAPEL|BOLS|DESPACHO|PROMOCION|CUPON|INYECCION|MEDICION|MEMBRESIA|REGALO|2020|2021|2022|MUNDIAL')]['CODIGO'])] +\\\n",
    "#                           [str(elemento) for elemento in list(diccionario[diccionario.MACROCATEGORIA.isin(['ENFERMERIA ACCESORIOS Y PROCEDIMIENTOS','HOGAR','RECARGAS VARIAS','BEBIDAS Y AGUAS','ACCESORIOS MODA','TECNOLOGIA','AUTOLIQUIDABLES REGALO ARTICULOS VARIOS','INSUMOS MACRO','EQUIPOS QUIRURGICOS','POR CLASIFICAR'])]['CODIGO'])] +\\\n",
    "#                           [str(elemento) for elemento in list(diccionario[diccionario.CATEGORIA_NIVEL_1.isin(['MASCARILLAS PRIMEROS AUXILIOS'])]['CODIGO'])] +\\\n",
    "#                           [str(elemento) for elemento in list(diccionario[diccionario.UNIDAD_COMERCIAL.isin(['INSTITUCIONAL'])]['CODIGO'])]\n",
    "# #por código\n",
    "# cods_excluir = pd.read_csv('G:/Mi unidad/SOCOFAR/0.-Recomendadores-Oficial/Archivos/codigos_exclusion.csv',sep=';').excluir.values.tolist() + excl_otros\n",
    "# cods_excluir = [int(cod) for cod in cods_excluir]\n",
    "\n",
    "# dicc_productos=diccionario[~diccionario.CODIGO.isin(cods_excluir)].CODIGO"
   ]
  },
  {
   "cell_type": "code",
   "execution_count": 25,
   "metadata": {},
   "outputs": [
    {
     "data": {
      "text/plain": [
       "293450    169053\n",
       "72203      80760\n",
       "260536     75848\n",
       "72202      74670\n",
       "273362     65622\n",
       "           ...  \n",
       "270966         1\n",
       "274636         1\n",
       "182104         1\n",
       "205184         1\n",
       "282592         1\n",
       "Name: CODIGO_PRODUCTO, Length: 13302, dtype: int64"
      ]
     },
     "execution_count": 25,
     "metadata": {},
     "output_type": "execute_result"
    }
   ],
   "source": [
    "dicc_productos=df['CODIGO_PRODUCTO'].unique()\n",
    "#min=dicc_productos.quantile(0.2)\n",
    "#dicc_productos = dicc_productos[dicc_productos > min]\n",
    "#len(dicc_productos)\n",
    "df['CODIGO_PRODUCTO'].value_counts()"
   ]
  },
  {
   "cell_type": "code",
   "execution_count": 26,
   "metadata": {},
   "outputs": [
    {
     "data": {
      "text/plain": [
       "13302"
      ]
     },
     "execution_count": 26,
     "metadata": {},
     "output_type": "execute_result"
    }
   ],
   "source": [
    "len(dicc_productos)"
   ]
  },
  {
   "cell_type": "code",
   "execution_count": 27,
   "metadata": {},
   "outputs": [
    {
     "name": "stdout",
     "output_type": "stream",
     "text": [
      "293450\n"
     ]
    }
   ],
   "source": [
    "dataframes_por_producto = {}  # Para almacenar el DataFrame de cada producto\n",
    "for producto in dicc_productos:\n",
    "    if producto==293450:\n",
    "        print(producto)\n",
    "        # Crear una copia de client_embeddings_df para no modificar el original\n",
    "        df_temporal = client_embeddings_df.copy()\n",
    "        \n",
    "        # Identificar los clientes que han comprado el producto actual\n",
    "        clientes_con_producto = df[df['CODIGO_PRODUCTO'] == producto]['RUT_CLIENTE'].unique()\n",
    "        \n",
    "        # Crear la columna 'target' basada en la condición de si el RUT_CLIENTE compró el producto\n",
    "        df_temporal['target'] = df_temporal['RUT_CLIENTE'].apply(lambda x: 1 if x in clientes_con_producto else 0)\n",
    "        \n",
    "        # Almacenar el DataFrame resultante en el diccionario con la clave siendo el código del producto\n",
    "        dataframes_por_producto[producto] = df_temporal"
   ]
  },
  {
   "cell_type": "code",
   "execution_count": 28,
   "metadata": {},
   "outputs": [
    {
     "data": {
      "text/html": [
       "<div>\n",
       "<style scoped>\n",
       "    .dataframe tbody tr th:only-of-type {\n",
       "        vertical-align: middle;\n",
       "    }\n",
       "\n",
       "    .dataframe tbody tr th {\n",
       "        vertical-align: top;\n",
       "    }\n",
       "\n",
       "    .dataframe thead th {\n",
       "        text-align: right;\n",
       "    }\n",
       "</style>\n",
       "<table border=\"1\" class=\"dataframe\">\n",
       "  <thead>\n",
       "    <tr style=\"text-align: right;\">\n",
       "      <th></th>\n",
       "      <th>RUT_CLIENTE</th>\n",
       "      <th>embedding_0</th>\n",
       "      <th>embedding_1</th>\n",
       "      <th>embedding_2</th>\n",
       "      <th>embedding_3</th>\n",
       "      <th>embedding_4</th>\n",
       "      <th>embedding_5</th>\n",
       "      <th>embedding_6</th>\n",
       "      <th>embedding_7</th>\n",
       "      <th>embedding_8</th>\n",
       "      <th>...</th>\n",
       "      <th>embedding_11</th>\n",
       "      <th>embedding_12</th>\n",
       "      <th>embedding_13</th>\n",
       "      <th>embedding_14</th>\n",
       "      <th>embedding_15</th>\n",
       "      <th>embedding_16</th>\n",
       "      <th>embedding_17</th>\n",
       "      <th>embedding_18</th>\n",
       "      <th>embedding_19</th>\n",
       "      <th>target</th>\n",
       "    </tr>\n",
       "  </thead>\n",
       "  <tbody>\n",
       "    <tr>\n",
       "      <th>0</th>\n",
       "      <td>1000232</td>\n",
       "      <td>-0.6208</td>\n",
       "      <td>-0.2480</td>\n",
       "      <td>2.0852</td>\n",
       "      <td>-1.0675</td>\n",
       "      <td>-0.2276</td>\n",
       "      <td>-0.7499</td>\n",
       "      <td>-0.2187</td>\n",
       "      <td>0.2429</td>\n",
       "      <td>-0.4754</td>\n",
       "      <td>...</td>\n",
       "      <td>-0.0740</td>\n",
       "      <td>0.1152</td>\n",
       "      <td>-0.8653</td>\n",
       "      <td>0.0271</td>\n",
       "      <td>1.2854</td>\n",
       "      <td>-1.1002</td>\n",
       "      <td>-1.2246</td>\n",
       "      <td>-0.1336</td>\n",
       "      <td>-0.5087</td>\n",
       "      <td>0</td>\n",
       "    </tr>\n",
       "    <tr>\n",
       "      <th>1</th>\n",
       "      <td>1000425</td>\n",
       "      <td>-0.1304</td>\n",
       "      <td>0.1049</td>\n",
       "      <td>0.2105</td>\n",
       "      <td>-0.6745</td>\n",
       "      <td>-1.1291</td>\n",
       "      <td>-0.8342</td>\n",
       "      <td>-0.8321</td>\n",
       "      <td>-0.7262</td>\n",
       "      <td>-0.4445</td>\n",
       "      <td>...</td>\n",
       "      <td>-0.4990</td>\n",
       "      <td>0.6467</td>\n",
       "      <td>-0.0502</td>\n",
       "      <td>0.1381</td>\n",
       "      <td>0.8189</td>\n",
       "      <td>-0.7818</td>\n",
       "      <td>-1.2185</td>\n",
       "      <td>-0.0160</td>\n",
       "      <td>0.4573</td>\n",
       "      <td>0</td>\n",
       "    </tr>\n",
       "    <tr>\n",
       "      <th>2</th>\n",
       "      <td>1000795</td>\n",
       "      <td>-0.4174</td>\n",
       "      <td>-0.0704</td>\n",
       "      <td>0.0612</td>\n",
       "      <td>0.1394</td>\n",
       "      <td>-0.7188</td>\n",
       "      <td>0.0617</td>\n",
       "      <td>0.8816</td>\n",
       "      <td>0.6903</td>\n",
       "      <td>-0.6173</td>\n",
       "      <td>...</td>\n",
       "      <td>-0.6691</td>\n",
       "      <td>0.2967</td>\n",
       "      <td>0.0355</td>\n",
       "      <td>0.0875</td>\n",
       "      <td>-0.3287</td>\n",
       "      <td>-0.2355</td>\n",
       "      <td>-0.4880</td>\n",
       "      <td>-1.1266</td>\n",
       "      <td>-0.1995</td>\n",
       "      <td>0</td>\n",
       "    </tr>\n",
       "    <tr>\n",
       "      <th>3</th>\n",
       "      <td>1001229</td>\n",
       "      <td>0.6467</td>\n",
       "      <td>0.2568</td>\n",
       "      <td>0.4830</td>\n",
       "      <td>-0.6142</td>\n",
       "      <td>-0.3558</td>\n",
       "      <td>0.0283</td>\n",
       "      <td>0.0027</td>\n",
       "      <td>0.1321</td>\n",
       "      <td>-0.5512</td>\n",
       "      <td>...</td>\n",
       "      <td>-0.0548</td>\n",
       "      <td>0.2568</td>\n",
       "      <td>-0.0398</td>\n",
       "      <td>-0.0717</td>\n",
       "      <td>1.1400</td>\n",
       "      <td>0.0389</td>\n",
       "      <td>-0.3963</td>\n",
       "      <td>-0.3471</td>\n",
       "      <td>-1.1470</td>\n",
       "      <td>1</td>\n",
       "    </tr>\n",
       "    <tr>\n",
       "      <th>4</th>\n",
       "      <td>1001378</td>\n",
       "      <td>-0.2909</td>\n",
       "      <td>0.1348</td>\n",
       "      <td>-0.0179</td>\n",
       "      <td>0.0538</td>\n",
       "      <td>-0.3222</td>\n",
       "      <td>0.3355</td>\n",
       "      <td>0.3861</td>\n",
       "      <td>0.4282</td>\n",
       "      <td>-0.8240</td>\n",
       "      <td>...</td>\n",
       "      <td>-0.5847</td>\n",
       "      <td>0.1933</td>\n",
       "      <td>-0.0501</td>\n",
       "      <td>0.3439</td>\n",
       "      <td>0.0973</td>\n",
       "      <td>0.1476</td>\n",
       "      <td>-0.2978</td>\n",
       "      <td>-0.8544</td>\n",
       "      <td>-0.2366</td>\n",
       "      <td>0</td>\n",
       "    </tr>\n",
       "  </tbody>\n",
       "</table>\n",
       "<p>5 rows × 22 columns</p>\n",
       "</div>"
      ],
      "text/plain": [
       "   RUT_CLIENTE  embedding_0  embedding_1  embedding_2  embedding_3  \\\n",
       "0      1000232      -0.6208      -0.2480       2.0852      -1.0675   \n",
       "1      1000425      -0.1304       0.1049       0.2105      -0.6745   \n",
       "2      1000795      -0.4174      -0.0704       0.0612       0.1394   \n",
       "3      1001229       0.6467       0.2568       0.4830      -0.6142   \n",
       "4      1001378      -0.2909       0.1348      -0.0179       0.0538   \n",
       "\n",
       "   embedding_4  embedding_5  embedding_6  embedding_7  embedding_8  ...  \\\n",
       "0      -0.2276      -0.7499      -0.2187       0.2429      -0.4754  ...   \n",
       "1      -1.1291      -0.8342      -0.8321      -0.7262      -0.4445  ...   \n",
       "2      -0.7188       0.0617       0.8816       0.6903      -0.6173  ...   \n",
       "3      -0.3558       0.0283       0.0027       0.1321      -0.5512  ...   \n",
       "4      -0.3222       0.3355       0.3861       0.4282      -0.8240  ...   \n",
       "\n",
       "   embedding_11  embedding_12  embedding_13  embedding_14  embedding_15  \\\n",
       "0       -0.0740        0.1152       -0.8653        0.0271        1.2854   \n",
       "1       -0.4990        0.6467       -0.0502        0.1381        0.8189   \n",
       "2       -0.6691        0.2967        0.0355        0.0875       -0.3287   \n",
       "3       -0.0548        0.2568       -0.0398       -0.0717        1.1400   \n",
       "4       -0.5847        0.1933       -0.0501        0.3439        0.0973   \n",
       "\n",
       "   embedding_16  embedding_17  embedding_18  embedding_19  target  \n",
       "0       -1.1002       -1.2246       -0.1336       -0.5087       0  \n",
       "1       -0.7818       -1.2185       -0.0160        0.4573       0  \n",
       "2       -0.2355       -0.4880       -1.1266       -0.1995       0  \n",
       "3        0.0389       -0.3963       -0.3471       -1.1470       1  \n",
       "4        0.1476       -0.2978       -0.8544       -0.2366       0  \n",
       "\n",
       "[5 rows x 22 columns]"
      ]
     },
     "execution_count": 28,
     "metadata": {},
     "output_type": "execute_result"
    }
   ],
   "source": [
    "excluir = ['RUT_CLIENTE', 'target']\n",
    "columnas_para_redondear = [col for col in df_temporal.columns if col not in excluir and (df_temporal[col].dtype == 'float64' or df_temporal[col].dtype == 'float32')]\n",
    "df_temporal[columnas_para_redondear] = df_temporal[columnas_para_redondear].round(8)\n",
    "df_temporal.head()     "
   ]
  },
  {
   "cell_type": "markdown",
   "metadata": {},
   "source": [
    "#### **MODELADO**"
   ]
  },
  {
   "cell_type": "code",
   "execution_count": 29,
   "metadata": {},
   "outputs": [],
   "source": [
    "#df_temporal.to_csv('G:/Mi unidad/SOCOFAR/0.-Recomendadores-Oficial/POS-Cross-Selling/Modelo_Supervisado/data1.csv',sep=';',index=False)\n",
    "#pipeline_bm.dataset = pd.read_csv('G:/Mi unidad/SOCOFAR/0.-Recomendadores-Oficial/POS-Cross-Selling/Modelo_Supervisado/data1.csv',delimiter=';')"
   ]
  },
  {
   "cell_type": "code",
   "execution_count": 30,
   "metadata": {},
   "outputs": [],
   "source": [
    "pipeline_bm.dataset=df_temporal"
   ]
  },
  {
   "cell_type": "code",
   "execution_count": 31,
   "metadata": {},
   "outputs": [
    {
     "name": "stdout",
     "output_type": "stream",
     "text": [
      "Procesando...\n",
      "cargar previamente pipeline_bm.dataset = nombre_dataframe\n",
      "________________________________________________________________________________________________________________________\n",
      "Datos recibidos: OK.\n",
      "Número de filas y columnas del dataset: (4178864, 22)\n",
      "________________________________________________________________________________________________________________________\n"
     ]
    }
   ],
   "source": [
    "pipeline_bm.recibe_data(\n",
    "    tipo = 'dataframe',\n",
    "    dataset_o_query = '',\n",
    "    target = 'TARGET',\n",
    "    delimiter=';' ,\n",
    "    #muestra = 'MUESTRA',\n",
    "    #ano_mes = 'FECHA_VENTA',\n",
    "    rut = 'RUT_CLIENTE', \n",
    "    excluir=[],\n",
    "    categoricas=[]\n",
    ")"
   ]
  },
  {
   "cell_type": "code",
   "execution_count": 32,
   "metadata": {},
   "outputs": [
    {
     "data": {
      "text/html": [
       "<div>\n",
       "<style scoped>\n",
       "    .dataframe tbody tr th:only-of-type {\n",
       "        vertical-align: middle;\n",
       "    }\n",
       "\n",
       "    .dataframe tbody tr th {\n",
       "        vertical-align: top;\n",
       "    }\n",
       "\n",
       "    .dataframe thead th {\n",
       "        text-align: right;\n",
       "    }\n",
       "</style>\n",
       "<table border=\"1\" class=\"dataframe\">\n",
       "  <thead>\n",
       "    <tr style=\"text-align: right;\">\n",
       "      <th></th>\n",
       "      <th>RUT_CLIENTE</th>\n",
       "      <th>EMBEDDING_0</th>\n",
       "      <th>EMBEDDING_1</th>\n",
       "      <th>EMBEDDING_2</th>\n",
       "      <th>EMBEDDING_3</th>\n",
       "      <th>EMBEDDING_4</th>\n",
       "      <th>EMBEDDING_5</th>\n",
       "      <th>EMBEDDING_6</th>\n",
       "      <th>EMBEDDING_7</th>\n",
       "      <th>EMBEDDING_8</th>\n",
       "      <th>...</th>\n",
       "      <th>EMBEDDING_11</th>\n",
       "      <th>EMBEDDING_12</th>\n",
       "      <th>EMBEDDING_13</th>\n",
       "      <th>EMBEDDING_14</th>\n",
       "      <th>EMBEDDING_15</th>\n",
       "      <th>EMBEDDING_16</th>\n",
       "      <th>EMBEDDING_17</th>\n",
       "      <th>EMBEDDING_18</th>\n",
       "      <th>EMBEDDING_19</th>\n",
       "      <th>TARGET</th>\n",
       "    </tr>\n",
       "  </thead>\n",
       "  <tbody>\n",
       "    <tr>\n",
       "      <th>0</th>\n",
       "      <td>1000232</td>\n",
       "      <td>-0.6208</td>\n",
       "      <td>-0.2480</td>\n",
       "      <td>2.0852</td>\n",
       "      <td>-1.0675</td>\n",
       "      <td>-0.2276</td>\n",
       "      <td>-0.7499</td>\n",
       "      <td>-0.2187</td>\n",
       "      <td>0.2429</td>\n",
       "      <td>-0.4754</td>\n",
       "      <td>...</td>\n",
       "      <td>-0.0740</td>\n",
       "      <td>0.1152</td>\n",
       "      <td>-0.8653</td>\n",
       "      <td>0.0271</td>\n",
       "      <td>1.2854</td>\n",
       "      <td>-1.1002</td>\n",
       "      <td>-1.2246</td>\n",
       "      <td>-0.1336</td>\n",
       "      <td>-0.5087</td>\n",
       "      <td>0</td>\n",
       "    </tr>\n",
       "    <tr>\n",
       "      <th>1</th>\n",
       "      <td>1000425</td>\n",
       "      <td>-0.1304</td>\n",
       "      <td>0.1049</td>\n",
       "      <td>0.2105</td>\n",
       "      <td>-0.6745</td>\n",
       "      <td>-1.1291</td>\n",
       "      <td>-0.8342</td>\n",
       "      <td>-0.8321</td>\n",
       "      <td>-0.7262</td>\n",
       "      <td>-0.4445</td>\n",
       "      <td>...</td>\n",
       "      <td>-0.4990</td>\n",
       "      <td>0.6467</td>\n",
       "      <td>-0.0502</td>\n",
       "      <td>0.1381</td>\n",
       "      <td>0.8189</td>\n",
       "      <td>-0.7818</td>\n",
       "      <td>-1.2185</td>\n",
       "      <td>-0.0160</td>\n",
       "      <td>0.4573</td>\n",
       "      <td>0</td>\n",
       "    </tr>\n",
       "    <tr>\n",
       "      <th>2</th>\n",
       "      <td>1000795</td>\n",
       "      <td>-0.4174</td>\n",
       "      <td>-0.0704</td>\n",
       "      <td>0.0612</td>\n",
       "      <td>0.1394</td>\n",
       "      <td>-0.7188</td>\n",
       "      <td>0.0617</td>\n",
       "      <td>0.8816</td>\n",
       "      <td>0.6903</td>\n",
       "      <td>-0.6173</td>\n",
       "      <td>...</td>\n",
       "      <td>-0.6691</td>\n",
       "      <td>0.2967</td>\n",
       "      <td>0.0355</td>\n",
       "      <td>0.0875</td>\n",
       "      <td>-0.3287</td>\n",
       "      <td>-0.2355</td>\n",
       "      <td>-0.4880</td>\n",
       "      <td>-1.1266</td>\n",
       "      <td>-0.1995</td>\n",
       "      <td>0</td>\n",
       "    </tr>\n",
       "    <tr>\n",
       "      <th>3</th>\n",
       "      <td>1001229</td>\n",
       "      <td>0.6467</td>\n",
       "      <td>0.2568</td>\n",
       "      <td>0.4830</td>\n",
       "      <td>-0.6142</td>\n",
       "      <td>-0.3558</td>\n",
       "      <td>0.0283</td>\n",
       "      <td>0.0027</td>\n",
       "      <td>0.1321</td>\n",
       "      <td>-0.5512</td>\n",
       "      <td>...</td>\n",
       "      <td>-0.0548</td>\n",
       "      <td>0.2568</td>\n",
       "      <td>-0.0398</td>\n",
       "      <td>-0.0717</td>\n",
       "      <td>1.1400</td>\n",
       "      <td>0.0389</td>\n",
       "      <td>-0.3963</td>\n",
       "      <td>-0.3471</td>\n",
       "      <td>-1.1470</td>\n",
       "      <td>1</td>\n",
       "    </tr>\n",
       "    <tr>\n",
       "      <th>4</th>\n",
       "      <td>1001378</td>\n",
       "      <td>-0.2909</td>\n",
       "      <td>0.1348</td>\n",
       "      <td>-0.0179</td>\n",
       "      <td>0.0538</td>\n",
       "      <td>-0.3222</td>\n",
       "      <td>0.3355</td>\n",
       "      <td>0.3861</td>\n",
       "      <td>0.4282</td>\n",
       "      <td>-0.8240</td>\n",
       "      <td>...</td>\n",
       "      <td>-0.5847</td>\n",
       "      <td>0.1933</td>\n",
       "      <td>-0.0501</td>\n",
       "      <td>0.3439</td>\n",
       "      <td>0.0973</td>\n",
       "      <td>0.1476</td>\n",
       "      <td>-0.2978</td>\n",
       "      <td>-0.8544</td>\n",
       "      <td>-0.2366</td>\n",
       "      <td>0</td>\n",
       "    </tr>\n",
       "  </tbody>\n",
       "</table>\n",
       "<p>5 rows × 22 columns</p>\n",
       "</div>"
      ],
      "text/plain": [
       "   RUT_CLIENTE  EMBEDDING_0  EMBEDDING_1  EMBEDDING_2  EMBEDDING_3  \\\n",
       "0      1000232      -0.6208      -0.2480       2.0852      -1.0675   \n",
       "1      1000425      -0.1304       0.1049       0.2105      -0.6745   \n",
       "2      1000795      -0.4174      -0.0704       0.0612       0.1394   \n",
       "3      1001229       0.6467       0.2568       0.4830      -0.6142   \n",
       "4      1001378      -0.2909       0.1348      -0.0179       0.0538   \n",
       "\n",
       "   EMBEDDING_4  EMBEDDING_5  EMBEDDING_6  EMBEDDING_7  EMBEDDING_8  ...  \\\n",
       "0      -0.2276      -0.7499      -0.2187       0.2429      -0.4754  ...   \n",
       "1      -1.1291      -0.8342      -0.8321      -0.7262      -0.4445  ...   \n",
       "2      -0.7188       0.0617       0.8816       0.6903      -0.6173  ...   \n",
       "3      -0.3558       0.0283       0.0027       0.1321      -0.5512  ...   \n",
       "4      -0.3222       0.3355       0.3861       0.4282      -0.8240  ...   \n",
       "\n",
       "   EMBEDDING_11  EMBEDDING_12  EMBEDDING_13  EMBEDDING_14  EMBEDDING_15  \\\n",
       "0       -0.0740        0.1152       -0.8653        0.0271        1.2854   \n",
       "1       -0.4990        0.6467       -0.0502        0.1381        0.8189   \n",
       "2       -0.6691        0.2967        0.0355        0.0875       -0.3287   \n",
       "3       -0.0548        0.2568       -0.0398       -0.0717        1.1400   \n",
       "4       -0.5847        0.1933       -0.0501        0.3439        0.0973   \n",
       "\n",
       "   EMBEDDING_16  EMBEDDING_17  EMBEDDING_18  EMBEDDING_19  TARGET  \n",
       "0       -1.1002       -1.2246       -0.1336       -0.5087       0  \n",
       "1       -0.7818       -1.2185       -0.0160        0.4573       0  \n",
       "2       -0.2355       -0.4880       -1.1266       -0.1995       0  \n",
       "3        0.0389       -0.3963       -0.3471       -1.1470       1  \n",
       "4        0.1476       -0.2978       -0.8544       -0.2366       0  \n",
       "\n",
       "[5 rows x 22 columns]"
      ]
     },
     "execution_count": 32,
     "metadata": {},
     "output_type": "execute_result"
    }
   ],
   "source": [
    "pipeline_bm.dataset.head()"
   ]
  },
  {
   "cell_type": "code",
   "execution_count": 33,
   "metadata": {},
   "outputs": [
    {
     "data": {
      "text/plain": [
       "4178864"
      ]
     },
     "execution_count": 33,
     "metadata": {},
     "output_type": "execute_result"
    }
   ],
   "source": [
    "len(pipeline_bm.dataset)"
   ]
  },
  {
   "cell_type": "code",
   "execution_count": 34,
   "metadata": {},
   "outputs": [
    {
     "name": "stdout",
     "output_type": "stream",
     "text": [
      "Separacion de muestras: OK.\n",
      "________________________________________________________________________________________________________________________\n"
     ]
    }
   ],
   "source": [
    "pipeline_bm.separa_muestras(test=0.3)"
   ]
  },
  {
   "cell_type": "code",
   "execution_count": 35,
   "metadata": {},
   "outputs": [
    {
     "name": "stdout",
     "output_type": "stream",
     "text": [
      "Fitting 3 folds for each of 1 candidates, totalling 3 fits\n",
      "[CV 1/3] END bootstrap=True, class_weight=balanced, criterion=gini, n_estimators=50, n_jobs=-1, oob_score=True, random_state=0;, score=0.638 total time= 3.2min\n",
      "[CV 2/3] END bootstrap=True, class_weight=balanced, criterion=gini, n_estimators=50, n_jobs=-1, oob_score=True, random_state=0;, score=0.639 total time= 2.7min\n",
      "[CV 3/3] END bootstrap=True, class_weight=balanced, criterion=gini, n_estimators=50, n_jobs=-1, oob_score=True, random_state=0;, score=0.642 total time= 2.7min\n",
      "best params: {'bootstrap': True, 'class_weight': 'balanced', 'criterion': 'gini', 'n_estimators': 50, 'n_jobs': -1, 'oob_score': True, 'random_state': 0}\n",
      "best estimator: RandomForestClassifier(class_weight='balanced', n_estimators=50, n_jobs=-1,\n",
      "                       oob_score=True, random_state=0)\n",
      "ROC: 0.9693074099492301\n",
      "Modelación: OK.\n",
      "________________________________________________________________________________________________________________________\n"
     ]
    }
   ],
   "source": [
    "pipeline_bm.modelacion('RandomForest', perf_eval='f1',ruta_exporta='G:/Mi unidad/SOCOFAR/0.-Recomendadores-Oficial/POS-Cross-Selling/Modelo_Supervisado/modelo_rf.joblib')"
   ]
  },
  {
   "cell_type": "code",
   "execution_count": 36,
   "metadata": {},
   "outputs": [
    {
     "data": {
      "image/png": "[encoded data removed]",
      "text/plain": [
       "<Figure size 640x480 with 1 Axes>"
      ]
     },
     "metadata": {},
     "output_type": "display_data"
    }
   ],
   "source": [
    "%matplotlib inline\n",
    "plot_roc_curve(pipeline_bm.model, pipeline_bm.X_test, pipeline_bm.Y_test)\n",
    "plt.title(pipeline_bm.algoritmo + ' ROC')\n",
    "plt.show()"
   ]
  },
  {
   "cell_type": "code",
   "execution_count": 37,
   "metadata": {},
   "outputs": [
    {
     "name": "stdout",
     "output_type": "stream",
     "text": [
      "\"ROC OPTIMO\"\n",
      "\n",
      "sens+espc:  1.8318128552710824\n",
      "KS:  0.8318128552710824\n",
      "threshold optimo:  0.059000000000000004\n",
      "sensibility:  0.9263967882234861\n",
      "specificity:  0.9054160670475963\n",
      "precision:  0.2926642751005639\n",
      "negative predictive value:  0.9965776520680041\n",
      "Critical Success Index:  0.2860137438253039\n",
      "accuracy:  0.9062664518290445\n",
      "f1score:  0.4448066674226103\n",
      "BalancedAccuracy:  0.9159064276355412\n"
     ]
    },
    {
     "data": {
      "text/html": [
       "<div>\n",
       "<style scoped>\n",
       "    .dataframe tbody tr th:only-of-type {\n",
       "        vertical-align: middle;\n",
       "    }\n",
       "\n",
       "    .dataframe tbody tr th {\n",
       "        vertical-align: top;\n",
       "    }\n",
       "\n",
       "    .dataframe thead th {\n",
       "        text-align: right;\n",
       "    }\n",
       "</style>\n",
       "<table border=\"1\" class=\"dataframe\">\n",
       "  <thead>\n",
       "    <tr style=\"text-align: right;\">\n",
       "      <th>TARGET</th>\n",
       "      <th>0</th>\n",
       "      <th>1</th>\n",
       "    </tr>\n",
       "    <tr>\n",
       "      <th>pred</th>\n",
       "      <th></th>\n",
       "      <th></th>\n",
       "    </tr>\n",
       "  </thead>\n",
       "  <tbody>\n",
       "    <tr>\n",
       "      <th>0</th>\n",
       "      <td>1089077</td>\n",
       "      <td>3740</td>\n",
       "    </tr>\n",
       "    <tr>\n",
       "      <th>1</th>\n",
       "      <td>113770</td>\n",
       "      <td>47073</td>\n",
       "    </tr>\n",
       "  </tbody>\n",
       "</table>\n",
       "</div>"
      ],
      "text/plain": [
       "TARGET        0      1\n",
       "pred                  \n",
       "0       1089077   3740\n",
       "1        113770  47073"
      ]
     },
     "execution_count": 37,
     "metadata": {},
     "output_type": "execute_result"
    }
   ],
   "source": [
    "pipeline_bm.metricas_modelo_optimo()\n",
    "pipeline_bm.confusion_matrix"
   ]
  },
  {
   "cell_type": "markdown",
   "metadata": {},
   "source": [
    "Lo esperable es que el modelo ajuste extremadamente bien ya que se le proporcionan implicitamente lo productos que compró a través del embbeding del cliente. \n",
    "Lo importante acá es que, de cara al uso, la probabilidad hacia un producto no comprado por el cliente será más alta en la medida en que el embbeding del cliente contenga el resto de productos que normalmente los clientes compran junto con el.\n",
    "\n",
    "no se interprete el acierto de este modelo con la efectividad de las recomendaciones en terminos de \"acabar en compra\""
   ]
  },
  {
   "cell_type": "code",
   "execution_count": 43,
   "metadata": {},
   "outputs": [
    {
     "data": {
      "text/plain": [
       "array([0.93752233])"
      ]
     },
     "execution_count": 43,
     "metadata": {},
     "output_type": "execute_result"
    }
   ],
   "source": [
    "x = 1.4116  # Este es tu nuevo valor para la variable \"embedding_0\"\n",
    "\n",
    "# Los datos deben ser un array bidimensional, como se espera en sklearn\n",
    "# El nuevo valor \"x\" se coloca en una lista de una sola lista para cumplir con esto\n",
    "x_array = np.array([[x]])\n",
    "x_array\n",
    "# Realizar la predicción\n",
    "\n",
    "for i in range(0,10):\n",
    "    prob=pipeline_bm.model.predict_proba(x_array)[:,1]\n",
    "    print(str(i)+': '+str(prob))\n"
   ]
  },
  {
   "cell_type": "code",
   "execution_count": null,
   "metadata": {},
   "outputs": [],
   "source": []
  }
 ],
 "metadata": {
  "kernelspec": {
   "display_name": "base",
   "language": "python",
   "name": "python3"
  },
  "language_info": {
   "codemirror_mode": {
    "name": "ipython",
    "version": 3
   },
   "file_extension": ".py",
   "mimetype": "text/x-python",
   "name": "python",
   "nbconvert_exporter": "python",
   "pygments_lexer": "ipython3",
   "version": "3.9.13"
  }
 },
 "nbformat": 4,
 "nbformat_minor": 2
}
